{
 "cells": [
  {
   "cell_type": "markdown",
   "metadata": {},
   "source": [
    "## How to use clust_eval.py\n",
    "\n",
    "I wrote a script to make plots that can help the user evaluate the effect of changing the clustering similarity parameter in ipyrad. The script works by parsing the ipyrad step 7 output stats files, and collecting the following information:\n",
    "- pi_0\n",
    "- var_0\n",
    "- total_filters for max alleles\n",
    "- total_filters for remove duplicates\n",
    "- total filtered loci\n",
    "- total prefiltered loci\n",
    "- retained loci after minimum sample\n",
    "- applied_order for max alleles\n",
    "\n",
    "It makes the following plots.\n",
    "\n",
    "![img](https://github.com/nclowell/SeaCukes/blob/master/Imgs_for_Notebooks/prop_hom_wosingletons.png?raw=true)\n",
    "\n",
    "![img](https://github.com/nclowell/SeaCukes/blob/master/Imgs_for_Notebooks/prop_hom_wsingletons.png?raw=true)\n",
    "\n",
    "![img](https://github.com/nclowell/SeaCukes/blob/master/Imgs_for_Notebooks/prop_het.png?raw=true)\n",
    "\n",
    "![img](https://github.com/nclowell/SeaCukes/blob/master/Imgs_for_Notebooks/prop_lost_polyploids.png?raw=true)\n",
    "\n",
    "![img](https://github.com/nclowell/SeaCukes/blob/master/Imgs_for_Notebooks/prop_lost_remdups.png?raw=true)\n",
    "\n",
    "The script manages arguments at the command line with ``argparse``. Here's where the script lives:"
   ]
  },
  {
   "cell_type": "code",
   "execution_count": 6,
   "metadata": {
    "collapsed": false
   },
   "outputs": [
    {
     "name": "stdout",
     "output_type": "stream",
     "text": [
      "/mnt/hgfs/SHARED_FOLDER/Cuke_repo/Scripts\n"
     ]
    }
   ],
   "source": [
    "cd /mnt/hgfs/SHARED_FOLDER/Cuke_repo/Scripts"
   ]
  },
  {
   "cell_type": "markdown",
   "metadata": {},
   "source": [
    "Here's the help file:"
   ]
  },
  {
   "cell_type": "code",
   "execution_count": 7,
   "metadata": {
    "collapsed": false
   },
   "outputs": [
    {
     "name": "stdout",
     "output_type": "stream",
     "text": [
      "usage: clust_eval.py [-h] -d DIR -n NAMES -c CLUSTS\r\n",
      "\r\n",
      "Read in step 7 stats files, plot contents to help user evaluate effect of\r\n",
      "clustering similarity\r\n",
      "\r\n",
      "optional arguments:\r\n",
      "  -h, --help            show this help message and exit\r\n",
      "  -d DIR, --dir DIR     path to ipyrad directory, without final slash\r\n",
      "  -n NAMES, --names NAMES\r\n",
      "                        text file of assembly names, each on own line, stored\r\n",
      "                        in ipyrad dir\r\n",
      "  -c CLUSTS, --clusts CLUSTS\r\n",
      "                        text file of clustering similarity parameter values,\r\n",
      "                        each on own line, and matching order of assembly names\r\n",
      "                        text file, stored in ipyrad dir\r\n"
     ]
    }
   ],
   "source": [
    "!python clust_eval.py -h"
   ]
  },
  {
   "cell_type": "markdown",
   "metadata": {},
   "source": [
    "Here are examples of the input files:"
   ]
  },
  {
   "cell_type": "code",
   "execution_count": 8,
   "metadata": {
    "collapsed": false
   },
   "outputs": [
    {
     "name": "stdout",
     "output_type": "stream",
     "text": [
      "/mnt/hgfs/SHARED_FOLDER/Learn_iPyrad/PARCAL_RUN1\n"
     ]
    }
   ],
   "source": [
    "cd ../../Learn_iPyrad/PARCAL_RUN1/"
   ]
  },
  {
   "cell_type": "code",
   "execution_count": 9,
   "metadata": {
    "collapsed": false
   },
   "outputs": [
    {
     "name": "stdout",
     "output_type": "stream",
     "text": [
      "PC_002_25_75_MA2\r\n",
      "PC_002_25_78_MA2\r\n",
      "PC_002_25_80_MA2\r\n",
      "PC_002_25_81_MA2\r\n",
      "PC_002_25_82_MA2\r\n",
      "PC_002_25_83_MA2\r\n",
      "PC_002_25_84_MA2\r\n",
      "PC_002_25_85_MA2\r\n",
      "PC_002_25_87_MA2\r\n",
      "PC_002_25_89_MA2\r\n",
      "PC_002_25_92_MA2\r\n",
      "PC_002_25_94_MA2\r\n",
      "PC_002_25_96_MA2\r\n",
      "PC_002_25_98_MA2\r\n",
      "\r\n"
     ]
    }
   ],
   "source": [
    "!head assembles_25_MA.txt -n 15"
   ]
  },
  {
   "cell_type": "code",
   "execution_count": 10,
   "metadata": {
    "collapsed": false
   },
   "outputs": [
    {
     "name": "stdout",
     "output_type": "stream",
     "text": [
      "75\r\n",
      "78\r\n",
      "80\r\n",
      "81\r\n",
      "82\r\n",
      "83\r\n",
      "84\r\n",
      "85\r\n",
      "87\r\n",
      "89\r\n",
      "92\r\n",
      "94\r\n",
      "96\r\n",
      "98\r\n"
     ]
    }
   ],
   "source": [
    "!head clusts.txt -n 15"
   ]
  }
 ],
 "metadata": {
  "kernelspec": {
   "display_name": "Python 2",
   "language": "python",
   "name": "python2"
  },
  "language_info": {
   "codemirror_mode": {
    "name": "ipython",
    "version": 2
   },
   "file_extension": ".py",
   "mimetype": "text/x-python",
   "name": "python",
   "nbconvert_exporter": "python",
   "pygments_lexer": "ipython2",
   "version": "2.7.13"
  }
 },
 "nbformat": 4,
 "nbformat_minor": 2
}
