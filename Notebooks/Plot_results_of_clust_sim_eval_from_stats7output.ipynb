{
 "cells": [
  {
   "cell_type": "markdown",
   "metadata": {},
   "source": [
    "## Plot results of clustering similarity evaluation, from stats 7 output\n",
    "\n",
    "**20170807**\n",
    "\n",
    "I need to find a faster way to extract information from the Step 7 stats output files, because manually is sucking up my time and I'll likely need to do this for scallops and sea cukes at least a couple of times. So, I'm going to figure out the bulk of the code here and then put it in a script once it's working.\n",
    "\n",
    "The script will take an input text file with each assembly name on its own line, like this one:"
   ]
  },
  {
   "cell_type": "code",
   "execution_count": 3,
   "metadata": {
    "collapsed": false
   },
   "outputs": [
    {
     "name": "stdout",
     "output_type": "stream",
     "text": [
      "/mnt/hgfs/SHARED_FOLDER/Learn_iPyrad/PARCAL_RUN1\n"
     ]
    }
   ],
   "source": [
    "cd /mnt/hgfs/SHARED_FOLDER/Learn_iPyrad/PARCAL_RUN1/"
   ]
  },
  {
   "cell_type": "code",
   "execution_count": 4,
   "metadata": {
    "collapsed": false
   },
   "outputs": [
    {
     "name": "stdout",
     "output_type": "stream",
     "text": [
      "PC_002_25_75_MA2\r\n",
      "PC_002_25_78_MA2\r\n",
      "PC_002_25_80_MA2\r\n",
      "PC_002_25_81_MA2\r\n",
      "PC_002_25_82_MA2\r\n",
      "PC_002_25_83_MA2\r\n",
      "PC_002_25_84_MA2\r\n",
      "PC_002_25_85_MA2\r\n",
      "PC_002_25_87_MA2\r\n",
      "PC_002_25_89_MA2\r\n",
      "PC_002_25_92_MA2\r\n",
      "PC_002_25_94_MA2\r\n",
      "PC_002_25_96_MA2\r\n",
      "PC_002_25_98_MA2\r\n",
      "\r\n"
     ]
    }
   ],
   "source": [
    "!head assembles_25_MA.txt -n 20"
   ]
  },
  {
   "cell_type": "markdown",
   "metadata": {},
   "source": [
    "It will also take as an input a text file with the clustering similarity parameters each on their own line, in the same order as the files list."
   ]
  },
  {
   "cell_type": "code",
   "execution_count": 9,
   "metadata": {
    "collapsed": false
   },
   "outputs": [
    {
     "name": "stdout",
     "output_type": "stream",
     "text": [
      "75\r\n",
      "78\r\n",
      "80\r\n",
      "81\r\n",
      "82\r\n",
      "83\r\n",
      "84\r\n",
      "85\r\n",
      "87\r\n",
      "89\r\n",
      "92\r\n",
      "94\r\n",
      "96\r\n",
      "98\r\n"
     ]
    }
   ],
   "source": [
    "!head clusts.txt -n 20"
   ]
  },
  {
   "cell_type": "code",
   "execution_count": 10,
   "metadata": {
    "collapsed": true
   },
   "outputs": [],
   "source": [
    "# get assembly names out of input file\n",
    "\n",
    "assemblies_file = open(\"assembles_25_MA.txt\",\"r\")\n",
    "assemblies = [] #initiate list to store assembly names\n",
    "for line in assemblies_file:\n",
    "    assemblies.append(line.strip())\n",
    "    \n",
    "# get clusts out of input file\n",
    "\n",
    "clusts_file = open(\"clusts.txt\",\"r\")\n",
    "clusts = []\n",
    "for line in clusts_file:\n",
    "    clusts.append(line.strip())"
   ]
  },
  {
   "cell_type": "markdown",
   "metadata": {},
   "source": [
    "The script will also take an input of the ipyrad directory, without final slash."
   ]
  },
  {
   "cell_type": "code",
   "execution_count": 7,
   "metadata": {
    "collapsed": true
   },
   "outputs": [],
   "source": [
    "ipy_dir = \"/mnt/hgfs/SHARED_FOLDER/Learn_iPyrad/PARCAL_RUN1\""
   ]
  },
  {
   "cell_type": "code",
   "execution_count": 6,
   "metadata": {
    "collapsed": false
   },
   "outputs": [
    {
     "data": {
      "text/plain": [
       "['PC_002_25_75_MA2',\n",
       " 'PC_002_25_78_MA2',\n",
       " 'PC_002_25_80_MA2',\n",
       " 'PC_002_25_81_MA2',\n",
       " 'PC_002_25_82_MA2',\n",
       " 'PC_002_25_83_MA2',\n",
       " 'PC_002_25_84_MA2',\n",
       " 'PC_002_25_85_MA2',\n",
       " 'PC_002_25_87_MA2',\n",
       " 'PC_002_25_89_MA2',\n",
       " 'PC_002_25_92_MA2',\n",
       " 'PC_002_25_94_MA2',\n",
       " 'PC_002_25_96_MA2',\n",
       " 'PC_002_25_98_MA2',\n",
       " '']"
      ]
     },
     "execution_count": 6,
     "metadata": {},
     "output_type": "execute_result"
    }
   ],
   "source": [
    "pi_0 = []\n",
    "var_0 = []\n",
    "total_filters\n",
    "tot_filt_loci = []\n",
    "\n",
    "for assembly in assemblies:\n",
    "    "
   ]
  },
  {
   "cell_type": "code",
   "execution_count": null,
   "metadata": {
    "collapsed": true
   },
   "outputs": [],
   "source": []
  }
 ],
 "metadata": {
  "kernelspec": {
   "display_name": "Python 2",
   "language": "python",
   "name": "python2"
  },
  "language_info": {
   "codemirror_mode": {
    "name": "ipython",
    "version": 2
   },
   "file_extension": ".py",
   "mimetype": "text/x-python",
   "name": "python",
   "nbconvert_exporter": "python",
   "pygments_lexer": "ipython2",
   "version": "2.7.13"
  }
 },
 "nbformat": 4,
 "nbformat_minor": 2
}
