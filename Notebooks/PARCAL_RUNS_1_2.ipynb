{
 "cells": [
  {
   "cell_type": "markdown",
   "metadata": {},
   "source": [
    "# PARCAL RUNS 1&2\n",
    "\n",
    "**20171101**\n",
    "\n",
    "I haven't looked at my second lane of sea cucumber data yet, and I also realized yesterday that there was a huge miscommunication in metadata, and so my previous DAPC that I presented to PCSGA this year is not entirely correct. I'm going to look at both lanes together now, and document that in this notebook.\n",
    "\n",
    "#### Steps\n",
    "\n",
    "[1] ipyrad\n",
    "\n",
    "[2] filtering for MAF of 0.05 & biallelic SNPs\n",
    "\n",
    "[3] DAPC"
   ]
  },
  {
   "cell_type": "markdown",
   "metadata": {},
   "source": [
    "# PARCAL 1"
   ]
  },
  {
   "cell_type": "markdown",
   "metadata": {},
   "source": [
    "### Params File"
   ]
  },
  {
   "cell_type": "code",
   "execution_count": 15,
   "metadata": {
    "collapsed": false
   },
   "outputs": [
    {
     "name": "stdout",
     "output_type": "stream",
     "text": [
      "/mnt/hgfs/SHARED_FOLDER/Learn_iPyrad/PARCAL_RUN1\n"
     ]
    }
   ],
   "source": [
    "cd ../PARCAL_RUN1/"
   ]
  },
  {
   "cell_type": "code",
   "execution_count": 13,
   "metadata": {
    "collapsed": false
   },
   "outputs": [
    {
     "name": "stdout",
     "output_type": "stream",
     "text": [
      "\r\n",
      " -------------------------------------------------------------\r\n",
      "  ipyrad [v.0.7.12]\r\n",
      "  Interactive assembly and analysis of RAD-seq data\r\n",
      " -------------------------------------------------------------\r\n",
      "\r\n",
      "  A new version of ipyrad is available (v.0.7.17). To upgrade run:\r\n",
      "\r\n",
      "    conda install -c ipyrad ipyrad\r\n",
      "\r\n",
      "\r\n",
      "  New file 'params-PCR1_001.txt' created in /mnt/hgfs/SHARED_FOLDER/Learn_iPyrad/PARCAL_RUN2\r\n",
      "\r\n"
     ]
    }
   ],
   "source": [
    "!ipyrad -n PCR1_001"
   ]
  },
  {
   "cell_type": "code",
   "execution_count": 17,
   "metadata": {
    "collapsed": false
   },
   "outputs": [
    {
     "name": "stdout",
     "output_type": "stream",
     "text": [
      "------- ipyrad params file (v.0.7.12)-------------------------------------------\r\n",
      "PCR1_001                       ## [0] [assembly_name]: Assembly name. Used to name output directories for assembly steps\r\n",
      "./                             ## [1] [project_dir]: Project dir (made in curdir if not present)\r\n",
      "/mnt/hgfs/Data/PARCAL/PARCAL_RUN1/raw_data/PARCAL_RUN1_1.fq.gz ## [2] [raw_fastq_path]\r\n",
      "/mnt/hgfs/SHARED_FOLDER/Learn_iPyrad/PARCAL_RUN1/barcodes_parcal1_corrmd.txt ## [3] [barcodes_path]: Location of barcodes file\r\n",
      "                               ## [4] [sorted_fastq_path]: Location of demultiplexed/sorted fastq files\r\n",
      "denovo                         ## [5] [assembly_method]: Assembly method (denovo, reference, denovo+reference, denovo-reference)\r\n",
      "                               ## [6] [reference_sequence]: Location of reference sequence file\r\n",
      "rad                            ## [7] [datatype]: Datatype (see docs): rad, gbs, ddrad, etc.\r\n",
      "TGCAGG,                        ## [8] [restriction_overhang]: Restriction overhang (cut1,) or (cut1, cut2)\r\n",
      "5                              ## [9] [max_low_qual_bases]: Max low quality base calls (Q<20) in a read\r\n",
      "33                             ## [10] [phred_Qscore_offset]: phred Q score offset (33 is default and very standard)\r\n",
      "8                              ## [11] [mindepth_statistical]: Min depth for statistical base calling\r\n",
      "8                              ## [12] [mindepth_majrule]: Min depth for majority-rule base calling\r\n",
      "2000                           ## [13] [maxdepth]: Max cluster depth within samples\r\n",
      "0.85                           ## [14] [clust_threshold]: Clustering threshold for de novo assembly\r\n",
      "0                              ## [15] [max_barcode_mismatch]: Max number of allowable mismatches in barcodes\r\n",
      "2                              ## [16] [filter_adapters]: Filter for adapters/primers (1 or 2=stricter)\r\n",
      "35                             ## [17] [filter_min_trim_len]: Min length of reads after adapter trim\r\n",
      "10                             ## [18] [max_alleles_consens]: Max alleles per site in consensus sequences\r\n",
      "5, 5                           ## [19] [max_Ns_consens]: Max N's (uncalled bases) in consensus (R1, R2)\r\n",
      "100, 100                       ## [20] [max_Hs_consens]: Max Hs (heterozygotes) in consensus (R1, R2)\r\n",
      "40                             ## [21] [min_samples_locus]: Min # samples per locus for output\r\n",
      "20, 20                         ## [22] [max_SNPs_locus]: Max # SNPs per locus (R1, R2)\r\n",
      "8, 8                           ## [23] [max_Indels_locus]: Max # of indels per locus (R1, R2)\r\n",
      "1.0                            ## [24] [max_shared_Hs_locus]: Max # heterozygous sites per locus (R1, R2)\r\n",
      "0, 0, 0, 0                     ## [25] [trim_reads]: Trim raw read edges (R1>, <R1, R2>, <R2) (see docs)\r\n",
      "0, 0, 0, 0                     ## [26] [trim_loci]: Trim locus edges (see docs) (R1>, <R1, R2>, <R2)\r\n",
      "p, s, v                        ## [27] [output_formats]: Output formats (see docs)\r\n",
      "                               ## [28] [pop_assign_file]: Path to population assignment file\r\n"
     ]
    }
   ],
   "source": [
    "!head params-PCR1_001.txt -n 30    "
   ]
  },
  {
   "cell_type": "markdown",
   "metadata": {},
   "source": [
    "### Barcodes File"
   ]
  },
  {
   "cell_type": "code",
   "execution_count": 18,
   "metadata": {
    "collapsed": false
   },
   "outputs": [
    {
     "name": "stdout",
     "output_type": "stream",
     "text": [
      "57541_A7\tAAACGG\r\n",
      "57541_A8\tGCCGTA\r\n",
      "57541_A10\tACTCTT\r\n",
      "57541_B7\tTTCTAG\r\n",
      "57541_B12\tATTCCG\r\n",
      "57541_C7\tCCGCAT\r\n",
      "57541_C8\tCGAGGC\r\n",
      "57541_C11\tCGCAGA\r\n",
      "57541_D7\tGAGAGA\r\n",
      "57541_D8\tGGGGCG\r\n"
     ]
    }
   ],
   "source": [
    "!head barcodes_parcal1_corrmd.txt"
   ]
  },
  {
   "cell_type": "markdown",
   "metadata": {},
   "source": [
    "### Population Assignment File"
   ]
  },
  {
   "cell_type": "code",
   "execution_count": 19,
   "metadata": {
    "collapsed": false
   },
   "outputs": [
    {
     "name": "stdout",
     "output_type": "stream",
     "text": [
      "57541_A1 pop1\r\n",
      "57541_A2 pop1\r\n",
      "57541_A3 pop1\r\n",
      "57541_A4 pop1\r\n",
      "57541_A5 pop1\r\n",
      "57541_A6 pop1\r\n",
      "57541_B1 pop1\r\n",
      "57541_B2 pop1\r\n",
      "57541_B4 pop1\r\n",
      "57541_B5 pop1\r\n"
     ]
    }
   ],
   "source": [
    "!head parcal1_pop_file_1Mcutoff.txt"
   ]
  },
  {
   "cell_type": "code",
   "execution_count": 20,
   "metadata": {
    "collapsed": false
   },
   "outputs": [
    {
     "name": "stdout",
     "output_type": "stream",
     "text": [
      "pop1 = BellaBella, BC\r",
      "\r\n",
      "pop2 = Chiniak Bay, AK\r",
      "\r\n",
      "pop3 = Auke Bay, AK\r",
      "\r\n",
      "pop4 = Yakutat Bay, AK\r",
      "\r\n"
     ]
    }
   ],
   "source": [
    "!head parcal1_pop_file_1Mcutoff_key.txt"
   ]
  },
  {
   "cell_type": "markdown",
   "metadata": {},
   "source": [
    "### Steps 1 & 2\n",
    "\n",
    "```\n",
    "ipyrad -p params-PCR1_001.txt -s 12\n",
    "```"
   ]
  },
  {
   "cell_type": "markdown",
   "metadata": {},
   "source": [
    "# PARCAL 2"
   ]
  },
  {
   "cell_type": "markdown",
   "metadata": {},
   "source": [
    "### Params File\n",
    "\n",
    "I'm going to demultiplex lane 2 with this assembly, do the same for the first lane of data, and then combine them into a merged assembly."
   ]
  },
  {
   "cell_type": "code",
   "execution_count": 2,
   "metadata": {
    "collapsed": false
   },
   "outputs": [
    {
     "name": "stdout",
     "output_type": "stream",
     "text": [
      "/mnt/hgfs/SHARED_FOLDER/Learn_iPyrad/PARCAL_RUN2\n"
     ]
    }
   ],
   "source": [
    "cd ../../Learn_iPyrad/PARCAL_RUN2/"
   ]
  },
  {
   "cell_type": "code",
   "execution_count": 3,
   "metadata": {
    "collapsed": false
   },
   "outputs": [
    {
     "name": "stdout",
     "output_type": "stream",
     "text": [
      "\r\n",
      " -------------------------------------------------------------\r\n",
      "  ipyrad [v.0.7.12]\r\n",
      "  Interactive assembly and analysis of RAD-seq data\r\n",
      " -------------------------------------------------------------\r\n",
      "\r\n",
      "  A new version of ipyrad is available (v.0.7.17). To upgrade run:\r\n",
      "\r\n",
      "    conda install -c ipyrad ipyrad\r\n",
      "\r\n",
      "\r\n",
      "  New file 'params-PCR2_001.txt' created in /mnt/hgfs/SHARED_FOLDER/Learn_iPyrad/PARCAL_RUN2\r\n",
      "\r\n"
     ]
    }
   ],
   "source": [
    "!ipyrad -n PCR2_001"
   ]
  },
  {
   "cell_type": "code",
   "execution_count": 12,
   "metadata": {
    "collapsed": false
   },
   "outputs": [
    {
     "name": "stdout",
     "output_type": "stream",
     "text": [
      "------- ipyrad params file (v.0.7.12)-------------------------------------------\r\n",
      "PCR2_001                       ## [0] [assembly_name]: Assembly name. Used to name output directories for assembly steps\r\n",
      "./                             ## [1] [project_dir]: Project dir (made in curdir if not present)\r\n",
      "                               ## [2] [raw_fastq_path]: Location of raw non-demultiplexed fastq files\r\n",
      "/mnt/hgfs/SHARED_FOLDER/Learn_iPyrad/PARCAL_RUN2/parcal2_barcodes.txt ## [3] [barcodes_path]: Location of barcodes file\r\n",
      "                               ## [4] [sorted_fastq_path]: Location of demultiplexed/sorted fastq files\r\n",
      "denovo                         ## [5] [assembly_method]: Assembly method (denovo, reference, denovo+reference, denovo-reference)\r\n",
      "                               ## [6] [reference_sequence]: Location of reference sequence file\r\n",
      "rad                            ## [7] [datatype]: Datatype (see docs): rad, gbs, ddrad, etc.\r\n",
      "TGCAGG,                        ## [8] [restriction_overhang]: Restriction overhang (cut1,) or (cut1, cut2)\r\n",
      "5                              ## [9] [max_low_qual_bases]: Max low quality base calls (Q<20) in a read\r\n",
      "33                             ## [10] [phred_Qscore_offset]: phred Q score offset (33 is default and very standard)\r\n",
      "8                              ## [11] [mindepth_statistical]: Min depth for statistical base calling\r\n",
      "8                              ## [12] [mindepth_majrule]: Min depth for majority-rule base calling\r\n",
      "2000                           ## [13] [maxdepth]: Max cluster depth within samples\r\n",
      "0.85                           ## [14] [clust_threshold]: Clustering threshold for de novo assembly\r\n",
      "0                              ## [15] [max_barcode_mismatch]: Max number of allowable mismatches in barcodes\r\n",
      "2                              ## [16] [filter_adapters]: Filter for adapters/primers (1 or 2=stricter)\r\n",
      "35                             ## [17] [filter_min_trim_len]: Min length of reads after adapter trim\r\n",
      "10                             ## [18] [max_alleles_consens]: Max alleles per site in consensus sequences\r\n",
      "5, 5                           ## [19] [max_Ns_consens]: Max N's (uncalled bases) in consensus (R1, R2)\r\n",
      "100, 100                       ## [20] [max_Hs_consens]: Max Hs (heterozygotes) in consensus (R1, R2)\r\n",
      "40                             ## [21] [min_samples_locus]: Min # samples per locus for output\r\n",
      "20, 20                         ## [22] [max_SNPs_locus]: Max # SNPs per locus (R1, R2)\r\n",
      "8, 8                           ## [23] [max_Indels_locus]: Max # of indels per locus (R1, R2)\r\n",
      "1.0                            ## [24] [max_shared_Hs_locus]: Max # heterozygous sites per locus (R1, R2)\r\n",
      "0, 0, 0, 0                     ## [25] [trim_reads]: Trim raw read edges (R1>, <R1, R2>, <R2) (see docs)\r\n",
      "0, 0, 0, 0                     ## [26] [trim_loci]: Trim locus edges (see docs) (R1>, <R1, R2>, <R2)\r\n",
      "p, s, v                        ## [27] [output_formats]: Output formats (see docs)\r\n",
      "                               ## [28] [pop_assign_file]: Path to population assignment file\r\n"
     ]
    }
   ],
   "source": [
    "!head params-PCR2_001.txt -n 30"
   ]
  },
  {
   "cell_type": "markdown",
   "metadata": {},
   "source": [
    "### Barcodes file"
   ]
  },
  {
   "cell_type": "code",
   "execution_count": 10,
   "metadata": {
    "collapsed": false
   },
   "outputs": [
    {
     "name": "stdout",
     "output_type": "stream",
     "text": [
      "202\tAAACGG\r",
      "\r\n",
      "203\tGCCGTA\r",
      "\r\n",
      "204\tACTCTT\r",
      "\r\n",
      "206\tTTCTAG\r",
      "\r\n",
      "207\tATTCCG\r",
      "\r\n",
      "209\tCCGCAT\r",
      "\r\n",
      "210\tCGAGGC\r",
      "\r\n",
      "211\tCGCAGA\r",
      "\r\n",
      "212\tGAGAGA\r",
      "\r\n",
      "213\tGGGGCG\r",
      "\r\n"
     ]
    }
   ],
   "source": [
    "!head parcal2_barcodes.txt"
   ]
  },
  {
   "cell_type": "markdown",
   "metadata": {},
   "source": [
    "### Population assignment file"
   ]
  },
  {
   "cell_type": "code",
   "execution_count": 9,
   "metadata": {
    "collapsed": false
   },
   "outputs": [
    {
     "name": "stdout",
     "output_type": "stream",
     "text": [
      "202 pop1\r",
      "\r\n",
      "203 pop1\r",
      "\r\n",
      "204 pop1\r",
      "\r\n",
      "206 pop1\r",
      "\r\n",
      "207 pop1\r",
      "\r\n",
      "209 pop1\r",
      "\r\n",
      "210 pop1\r",
      "\r\n",
      "211 pop1\r",
      "\r\n",
      "212 pop1\r",
      "\r\n",
      "213 pop1\r",
      "\r\n"
     ]
    }
   ],
   "source": [
    "!head parcal2_pop_file.txt -n 10"
   ]
  },
  {
   "cell_type": "code",
   "execution_count": 8,
   "metadata": {
    "collapsed": false
   },
   "outputs": [
    {
     "name": "stdout",
     "output_type": "stream",
     "text": [
      "pop1 = EldInletWA\r",
      "\r\n",
      "pop2 = SantaBarbaraCA\r",
      "\r\n",
      "pop3 = JamesIslandWA\r",
      "\r\n",
      "pop4 = ChiniakBayAK"
     ]
    }
   ],
   "source": [
    "!head parcal2_pop_file_key.txt"
   ]
  },
  {
   "cell_type": "markdown",
   "metadata": {},
   "source": [
    "### Steps 1 & 2\n",
    "\n",
    "```\n",
    "ipyrad -p params-PCR2_001.txt -s 12\n",
    "```"
   ]
  },
  {
   "cell_type": "markdown",
   "metadata": {},
   "source": [
    "# Merging both lanes"
   ]
  },
  {
   "cell_type": "code",
   "execution_count": null,
   "metadata": {
    "collapsed": true
   },
   "outputs": [],
   "source": []
  }
 ],
 "metadata": {
  "kernelspec": {
   "display_name": "Python 2",
   "language": "python",
   "name": "python2"
  },
  "language_info": {
   "codemirror_mode": {
    "name": "ipython",
    "version": 2
   },
   "file_extension": ".py",
   "mimetype": "text/x-python",
   "name": "python",
   "nbconvert_exporter": "python",
   "pygments_lexer": "ipython2",
   "version": "2.7.13"
  }
 },
 "nbformat": 4,
 "nbformat_minor": 2
}
