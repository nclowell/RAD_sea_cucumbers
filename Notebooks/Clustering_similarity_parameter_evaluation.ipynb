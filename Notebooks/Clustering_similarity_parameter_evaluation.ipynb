{
 "cells": [
  {
   "cell_type": "markdown",
   "metadata": {},
   "source": [
    "## Clustering Similarity Parameter Evaluation\n",
    "\n",
    "**20170804**\n",
    "\n",
    "I want to test to see what clustering similarity parameter I should use in my sea cucucumber assemblies. To do that, I'm going to do something similar to what I did for rock scallops (notebook [here](https://github.com/nclowell/RAD_Scallops/blob/master/CRAGIG_combined_lanes/Notebooks/Evaluating_clustering_similarity_ipyrad.ipynb)), except with a couple additions that I'll make because of a very informative conversation with Katherine.\n",
    "\n",
    "First, I'll pick a subset of my samples that all had \"good\" DNA quality and represent different populations."
   ]
  },
  {
   "cell_type": "code",
   "execution_count": 3,
   "metadata": {
    "collapsed": false
   },
   "outputs": [
    {
     "name": "stdout",
     "output_type": "stream",
     "text": [
      "/mnt/hgfs/SHARED_FOLDER/Learn_iPyrad/PARCAL_RUN1\n"
     ]
    }
   ],
   "source": [
    "cd /mnt/hgfs/SHARED_FOLDER/Learn_iPyrad/PARCAL_RUN1"
   ]
  },
  {
   "cell_type": "code",
   "execution_count": 4,
   "metadata": {
    "collapsed": false
   },
   "outputs": [
    {
     "name": "stdout",
     "output_type": "stream",
     "text": [
      "1_B12\r\n",
      "1_C11\r\n",
      "1_C7\r\n",
      "1_C8\r\n",
      "1_D11\r\n",
      "1_D7\r\n",
      "1_D8\r\n",
      "1_D9\r\n",
      "1_E7\r\n",
      "1_F7\r\n",
      "1_G9\r\n",
      "2_A10\r\n",
      "2_A8\r\n",
      "2_B11\r\n",
      "2_B7\r\n",
      "2_C7\r\n",
      "2_C8\r\n",
      "2_D8\r\n",
      "2_D9\r\n",
      "2_E12\r\n",
      "2_E7\r\n",
      "2_E8\r\n",
      "2_G9\r\n",
      "2_H11\r\n",
      "2_H8\r\n"
     ]
    }
   ],
   "source": [
    "!head parcal_25_goodDNA.txt -n 27"
   ]
  },
  {
   "cell_type": "markdown",
   "metadata": {},
   "source": [
    "Then I'll make the params files for all the different clustering similarity parameter values I'd like to test."
   ]
  },
  {
   "cell_type": "code",
   "execution_count": 5,
   "metadata": {
    "collapsed": false
   },
   "outputs": [
    {
     "name": "stdout",
     "output_type": "stream",
     "text": [
      "\n",
      "  loading Assembly: parcal_002\n",
      "  from saved path: /mnt/hgfs/SHARED_FOLDER/Learn_iPyrad/PARCAL_RUN1/parcal_002.json\n",
      "  creating a new branch called 'PC_002_25_75' with 25 Samples\n",
      "  writing new params file to params-PC_002_25_75.txt\n",
      "\n"
     ]
    }
   ],
   "source": [
    "!ipyrad -p params-parcal_002.txt -b PC_002_25_75 parcal_25_goodDNA.txt"
   ]
  },
  {
   "cell_type": "code",
   "execution_count": 6,
   "metadata": {
    "collapsed": false
   },
   "outputs": [
    {
     "name": "stdout",
     "output_type": "stream",
     "text": [
      "\n",
      "  loading Assembly: parcal_002\n",
      "  from saved path: /mnt/hgfs/SHARED_FOLDER/Learn_iPyrad/PARCAL_RUN1/parcal_002.json\n",
      "  creating a new branch called 'PC_002_25_78' with 25 Samples\n",
      "  writing new params file to params-PC_002_25_78.txt\n",
      "\n"
     ]
    }
   ],
   "source": [
    "!ipyrad -p params-parcal_002.txt -b PC_002_25_78 parcal_25_goodDNA.txt"
   ]
  },
  {
   "cell_type": "code",
   "execution_count": 7,
   "metadata": {
    "collapsed": false,
    "scrolled": false
   },
   "outputs": [
    {
     "name": "stdout",
     "output_type": "stream",
     "text": [
      "\n",
      "  loading Assembly: parcal_002\n",
      "  from saved path: /mnt/hgfs/SHARED_FOLDER/Learn_iPyrad/PARCAL_RUN1/parcal_002.json\n",
      "  creating a new branch called 'PC_002_25_80' with 25 Samples\n",
      "  writing new params file to params-PC_002_25_80.txt\n",
      "\n"
     ]
    }
   ],
   "source": [
    "!ipyrad -p params-parcal_002.txt -b PC_002_25_80 parcal_25_goodDNA.txt"
   ]
  },
  {
   "cell_type": "code",
   "execution_count": 8,
   "metadata": {
    "collapsed": false,
    "scrolled": true
   },
   "outputs": [
    {
     "name": "stdout",
     "output_type": "stream",
     "text": [
      "\n",
      "  loading Assembly: parcal_002\n",
      "  from saved path: /mnt/hgfs/SHARED_FOLDER/Learn_iPyrad/PARCAL_RUN1/parcal_002.json\n",
      "  creating a new branch called 'PC_002_25_81' with 25 Samples\n",
      "  writing new params file to params-PC_002_25_81.txt\n",
      "\n"
     ]
    }
   ],
   "source": [
    "!ipyrad -p params-parcal_002.txt -b PC_002_25_81 parcal_25_goodDNA.txt"
   ]
  },
  {
   "cell_type": "code",
   "execution_count": 9,
   "metadata": {
    "collapsed": false
   },
   "outputs": [
    {
     "name": "stdout",
     "output_type": "stream",
     "text": [
      "\n",
      "  loading Assembly: parcal_002\n",
      "  from saved path: /mnt/hgfs/SHARED_FOLDER/Learn_iPyrad/PARCAL_RUN1/parcal_002.json\n",
      "  creating a new branch called 'PC_002_25_82' with 25 Samples\n",
      "  writing new params file to params-PC_002_25_82.txt\n",
      "\n"
     ]
    }
   ],
   "source": [
    "!ipyrad -p params-parcal_002.txt -b PC_002_25_82 parcal_25_goodDNA.txt"
   ]
  },
  {
   "cell_type": "code",
   "execution_count": 10,
   "metadata": {
    "collapsed": false
   },
   "outputs": [
    {
     "name": "stdout",
     "output_type": "stream",
     "text": [
      "\n",
      "  loading Assembly: parcal_002\n",
      "  from saved path: /mnt/hgfs/SHARED_FOLDER/Learn_iPyrad/PARCAL_RUN1/parcal_002.json\n",
      "  creating a new branch called 'PC_002_25_83' with 25 Samples\n",
      "  writing new params file to params-PC_002_25_83.txt\n",
      "\n"
     ]
    }
   ],
   "source": [
    "!ipyrad -p params-parcal_002.txt -b PC_002_25_83 parcal_25_goodDNA.txt"
   ]
  },
  {
   "cell_type": "code",
   "execution_count": 11,
   "metadata": {
    "collapsed": false
   },
   "outputs": [
    {
     "name": "stdout",
     "output_type": "stream",
     "text": [
      "\n",
      "  loading Assembly: parcal_002\n",
      "  from saved path: /mnt/hgfs/SHARED_FOLDER/Learn_iPyrad/PARCAL_RUN1/parcal_002.json\n",
      "  creating a new branch called 'PC_002_25_84' with 25 Samples\n",
      "  writing new params file to params-PC_002_25_84.txt\n",
      "\n"
     ]
    }
   ],
   "source": [
    "!ipyrad -p params-parcal_002.txt -b PC_002_25_84 parcal_25_goodDNA.txt"
   ]
  },
  {
   "cell_type": "code",
   "execution_count": 12,
   "metadata": {
    "collapsed": false,
    "scrolled": true
   },
   "outputs": [
    {
     "name": "stdout",
     "output_type": "stream",
     "text": [
      "\n",
      "  loading Assembly: parcal_002\n",
      "  from saved path: /mnt/hgfs/SHARED_FOLDER/Learn_iPyrad/PARCAL_RUN1/parcal_002.json\n",
      "  creating a new branch called 'PC_002_25_85' with 25 Samples\n",
      "  writing new params file to params-PC_002_25_85.txt\n",
      "\n"
     ]
    }
   ],
   "source": [
    "!ipyrad -p params-parcal_002.txt -b PC_002_25_85 parcal_25_goodDNA.txt"
   ]
  },
  {
   "cell_type": "code",
   "execution_count": 13,
   "metadata": {
    "collapsed": false,
    "scrolled": true
   },
   "outputs": [
    {
     "name": "stdout",
     "output_type": "stream",
     "text": [
      "\n",
      "  loading Assembly: parcal_002\n",
      "  from saved path: /mnt/hgfs/SHARED_FOLDER/Learn_iPyrad/PARCAL_RUN1/parcal_002.json\n",
      "  creating a new branch called 'PC_002_25_87' with 25 Samples\n",
      "  writing new params file to params-PC_002_25_87.txt\n",
      "\n"
     ]
    }
   ],
   "source": [
    "!ipyrad -p params-parcal_002.txt -b PC_002_25_87 parcal_25_goodDNA.txt"
   ]
  },
  {
   "cell_type": "code",
   "execution_count": 14,
   "metadata": {
    "collapsed": false,
    "scrolled": true
   },
   "outputs": [
    {
     "name": "stdout",
     "output_type": "stream",
     "text": [
      "\n",
      "  loading Assembly: parcal_002\n",
      "  from saved path: /mnt/hgfs/SHARED_FOLDER/Learn_iPyrad/PARCAL_RUN1/parcal_002.json\n",
      "  creating a new branch called 'PC_002_25_89' with 25 Samples\n",
      "  writing new params file to params-PC_002_25_89.txt\n",
      "\n"
     ]
    }
   ],
   "source": [
    "!ipyrad -p params-parcal_002.txt -b PC_002_25_89 parcal_25_goodDNA.txt"
   ]
  },
  {
   "cell_type": "code",
   "execution_count": 15,
   "metadata": {
    "collapsed": false
   },
   "outputs": [
    {
     "name": "stdout",
     "output_type": "stream",
     "text": [
      "\n",
      "  loading Assembly: parcal_002\n",
      "  from saved path: /mnt/hgfs/SHARED_FOLDER/Learn_iPyrad/PARCAL_RUN1/parcal_002.json\n",
      "  creating a new branch called 'PC_002_25_92' with 25 Samples\n",
      "  writing new params file to params-PC_002_25_92.txt\n",
      "\n"
     ]
    }
   ],
   "source": [
    "!ipyrad -p params-parcal_002.txt -b PC_002_25_92 parcal_25_goodDNA.txt"
   ]
  },
  {
   "cell_type": "code",
   "execution_count": 16,
   "metadata": {
    "collapsed": false
   },
   "outputs": [
    {
     "name": "stdout",
     "output_type": "stream",
     "text": [
      "\n",
      "  loading Assembly: parcal_002\n",
      "  from saved path: /mnt/hgfs/SHARED_FOLDER/Learn_iPyrad/PARCAL_RUN1/parcal_002.json\n",
      "  creating a new branch called 'PC_002_25_94' with 25 Samples\n",
      "  writing new params file to params-PC_002_25_94.txt\n",
      "\n"
     ]
    }
   ],
   "source": [
    "!ipyrad -p params-parcal_002.txt -b PC_002_25_94 parcal_25_goodDNA.txt"
   ]
  },
  {
   "cell_type": "code",
   "execution_count": 17,
   "metadata": {
    "collapsed": false,
    "scrolled": true
   },
   "outputs": [
    {
     "name": "stdout",
     "output_type": "stream",
     "text": [
      "\n",
      "  loading Assembly: parcal_002\n",
      "  from saved path: /mnt/hgfs/SHARED_FOLDER/Learn_iPyrad/PARCAL_RUN1/parcal_002.json\n",
      "  creating a new branch called 'PC_002_25_96' with 25 Samples\n",
      "  writing new params file to params-PC_002_25_96.txt\n",
      "\n"
     ]
    }
   ],
   "source": [
    "!ipyrad -p params-parcal_002.txt -b PC_002_25_96 parcal_25_goodDNA.txt"
   ]
  },
  {
   "cell_type": "code",
   "execution_count": 19,
   "metadata": {
    "collapsed": false
   },
   "outputs": [
    {
     "name": "stdout",
     "output_type": "stream",
     "text": [
      "\n",
      "  loading Assembly: parcal_002\n",
      "  from saved path: /mnt/hgfs/SHARED_FOLDER/Learn_iPyrad/PARCAL_RUN1/parcal_002.json\n",
      "  creating a new branch called 'PC_002_25_98' with 25 Samples\n",
      "  writing new params file to params-PC_002_25_98.txt\n",
      "\n"
     ]
    }
   ],
   "source": [
    "!ipyrad -p params-parcal_002.txt -b PC_002_25_98 parcal_25_goodDNA.txt"
   ]
  },
  {
   "cell_type": "markdown",
   "metadata": {},
   "source": [
    "Make bash script that will run Steps 3-7 of all of these branches over the weekend."
   ]
  },
  {
   "cell_type": "code",
   "execution_count": 20,
   "metadata": {
    "collapsed": false
   },
   "outputs": [
    {
     "name": "stdout",
     "output_type": "stream",
     "text": [
      "#!/bin/bash\r\n",
      "ipyrad -p params-params-PC_002_25_75.txt -s 34567 -f\r\n",
      "ipyrad -p params-params-PC_002_25_78.txt -s 34567 -f\r\n",
      "ipyrad -p params-params-PC_002_25_80.txt -s 34567 -f\r\n",
      "ipyrad -p params-params-PC_002_25_81.txt -s 34567 -f\r\n",
      "ipyrad -p params-params-PC_002_25_82.txt -s 34567 -f\r\n",
      "ipyrad -p params-params-PC_002_25_83.txt -s 34567 -f\r\n",
      "ipyrad -p params-params-PC_002_25_84.txt -s 34567 -f\r\n",
      "ipyrad -p params-params-PC_002_25_85.txt -s 34567 -f\r\n",
      "ipyrad -p params-params-PC_002_25_87.txt -s 34567 -f\r\n",
      "ipyrad -p params-params-PC_002_25_89.txt -s 34567 -f\r\n",
      "ipyrad -p params-params-PC_002_25_92.txt -s 34567 -f\r\n",
      "ipyrad -p params-params-PC_002_25_94.txt -s 34567 -f\r\n",
      "ipyrad -p params-params-PC_002_25_96.txt -s 34567 -f\r\n",
      "ipyrad -p params-params-PC_002_25_98.txt -s 34567 -f\r\n"
     ]
    }
   ],
   "source": [
    "!head parcal_clust_branch.sh -n 15"
   ]
  },
  {
   "cell_type": "markdown",
   "metadata": {},
   "source": [
    "Double-checking that I indeed edited all of the clustering parameters... and now running outside the notebook!"
   ]
  },
  {
   "cell_type": "code",
   "execution_count": null,
   "metadata": {
    "collapsed": true
   },
   "outputs": [],
   "source": []
  }
 ],
 "metadata": {
  "kernelspec": {
   "display_name": "Python 2",
   "language": "python",
   "name": "python2"
  },
  "language_info": {
   "codemirror_mode": {
    "name": "ipython",
    "version": 2
   },
   "file_extension": ".py",
   "mimetype": "text/x-python",
   "name": "python",
   "nbconvert_exporter": "python",
   "pygments_lexer": "ipython2",
   "version": "2.7.13"
  }
 },
 "nbformat": 4,
 "nbformat_minor": 2
}
