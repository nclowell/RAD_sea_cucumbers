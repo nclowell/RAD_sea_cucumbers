{
 "cells": [
  {
   "cell_type": "markdown",
   "metadata": {
    "deletable": true,
    "editable": true
   },
   "source": [
    "## Clustering Similarity Parameter Evaluation\n",
    "\n",
    "**20170804**\n",
    "\n",
    "I want to test to see what clustering similarity parameter I should use in my sea cucucumber assemblies. To do that, I'm going to do something similar to what I did for rock scallops (notebook [here](https://github.com/nclowell/RAD_Scallops/blob/master/CRAGIG_combined_lanes/Notebooks/Evaluating_clustering_similarity_ipyrad.ipynb)), except with a couple additions that I'll make because of a very informative conversation with Katherine.\n",
    "\n",
    "First, I'll pick a subset of my samples that all had \"good\" DNA quality and represent different populations."
   ]
  },
  {
   "cell_type": "code",
   "execution_count": 3,
   "metadata": {
    "collapsed": false,
    "deletable": true,
    "editable": true
   },
   "outputs": [
    {
     "name": "stdout",
     "output_type": "stream",
     "text": [
      "/mnt/hgfs/SHARED_FOLDER/Learn_iPyrad/PARCAL_RUN1\n"
     ]
    }
   ],
   "source": [
    "cd /mnt/hgfs/SHARED_FOLDER/Learn_iPyrad/PARCAL_RUN1"
   ]
  },
  {
   "cell_type": "code",
   "execution_count": 4,
   "metadata": {
    "collapsed": false,
    "deletable": true,
    "editable": true
   },
   "outputs": [
    {
     "name": "stdout",
     "output_type": "stream",
     "text": [
      "1_B12\r\n",
      "1_C11\r\n",
      "1_C7\r\n",
      "1_C8\r\n",
      "1_D11\r\n",
      "1_D7\r\n",
      "1_D8\r\n",
      "1_D9\r\n",
      "1_E7\r\n",
      "1_F7\r\n",
      "1_G9\r\n",
      "2_A10\r\n",
      "2_A8\r\n",
      "2_B11\r\n",
      "2_B7\r\n",
      "2_C7\r\n",
      "2_C8\r\n",
      "2_D8\r\n",
      "2_D9\r\n",
      "2_E12\r\n",
      "2_E7\r\n",
      "2_E8\r\n",
      "2_G9\r\n",
      "2_H11\r\n",
      "2_H8\r\n"
     ]
    }
   ],
   "source": [
    "!head parcal_25_goodDNA.txt -n 27"
   ]
  },
  {
   "cell_type": "markdown",
   "metadata": {
    "deletable": true,
    "editable": true
   },
   "source": [
    "Then I'll make the params files for all the different clustering similarity parameter values I'd like to test."
   ]
  },
  {
   "cell_type": "code",
   "execution_count": 5,
   "metadata": {
    "collapsed": false,
    "deletable": true,
    "editable": true
   },
   "outputs": [
    {
     "name": "stdout",
     "output_type": "stream",
     "text": [
      "\n",
      "  loading Assembly: parcal_002\n",
      "  from saved path: /mnt/hgfs/SHARED_FOLDER/Learn_iPyrad/PARCAL_RUN1/parcal_002.json\n",
      "  creating a new branch called 'PC_002_25_75' with 25 Samples\n",
      "  writing new params file to params-PC_002_25_75.txt\n",
      "\n"
     ]
    }
   ],
   "source": [
    "!ipyrad -p params-parcal_002.txt -b PC_002_25_75 parcal_25_goodDNA.txt"
   ]
  },
  {
   "cell_type": "code",
   "execution_count": 6,
   "metadata": {
    "collapsed": false,
    "deletable": true,
    "editable": true
   },
   "outputs": [
    {
     "name": "stdout",
     "output_type": "stream",
     "text": [
      "\n",
      "  loading Assembly: parcal_002\n",
      "  from saved path: /mnt/hgfs/SHARED_FOLDER/Learn_iPyrad/PARCAL_RUN1/parcal_002.json\n",
      "  creating a new branch called 'PC_002_25_78' with 25 Samples\n",
      "  writing new params file to params-PC_002_25_78.txt\n",
      "\n"
     ]
    }
   ],
   "source": [
    "!ipyrad -p params-parcal_002.txt -b PC_002_25_78 parcal_25_goodDNA.txt"
   ]
  },
  {
   "cell_type": "code",
   "execution_count": 7,
   "metadata": {
    "collapsed": false,
    "deletable": true,
    "editable": true,
    "scrolled": false
   },
   "outputs": [
    {
     "name": "stdout",
     "output_type": "stream",
     "text": [
      "\n",
      "  loading Assembly: parcal_002\n",
      "  from saved path: /mnt/hgfs/SHARED_FOLDER/Learn_iPyrad/PARCAL_RUN1/parcal_002.json\n",
      "  creating a new branch called 'PC_002_25_80' with 25 Samples\n",
      "  writing new params file to params-PC_002_25_80.txt\n",
      "\n"
     ]
    }
   ],
   "source": [
    "!ipyrad -p params-parcal_002.txt -b PC_002_25_80 parcal_25_goodDNA.txt"
   ]
  },
  {
   "cell_type": "code",
   "execution_count": 8,
   "metadata": {
    "collapsed": false,
    "deletable": true,
    "editable": true,
    "scrolled": true
   },
   "outputs": [
    {
     "name": "stdout",
     "output_type": "stream",
     "text": [
      "\n",
      "  loading Assembly: parcal_002\n",
      "  from saved path: /mnt/hgfs/SHARED_FOLDER/Learn_iPyrad/PARCAL_RUN1/parcal_002.json\n",
      "  creating a new branch called 'PC_002_25_81' with 25 Samples\n",
      "  writing new params file to params-PC_002_25_81.txt\n",
      "\n"
     ]
    }
   ],
   "source": [
    "!ipyrad -p params-parcal_002.txt -b PC_002_25_81 parcal_25_goodDNA.txt"
   ]
  },
  {
   "cell_type": "code",
   "execution_count": 9,
   "metadata": {
    "collapsed": false,
    "deletable": true,
    "editable": true
   },
   "outputs": [
    {
     "name": "stdout",
     "output_type": "stream",
     "text": [
      "\n",
      "  loading Assembly: parcal_002\n",
      "  from saved path: /mnt/hgfs/SHARED_FOLDER/Learn_iPyrad/PARCAL_RUN1/parcal_002.json\n",
      "  creating a new branch called 'PC_002_25_82' with 25 Samples\n",
      "  writing new params file to params-PC_002_25_82.txt\n",
      "\n"
     ]
    }
   ],
   "source": [
    "!ipyrad -p params-parcal_002.txt -b PC_002_25_82 parcal_25_goodDNA.txt"
   ]
  },
  {
   "cell_type": "code",
   "execution_count": 10,
   "metadata": {
    "collapsed": false,
    "deletable": true,
    "editable": true
   },
   "outputs": [
    {
     "name": "stdout",
     "output_type": "stream",
     "text": [
      "\n",
      "  loading Assembly: parcal_002\n",
      "  from saved path: /mnt/hgfs/SHARED_FOLDER/Learn_iPyrad/PARCAL_RUN1/parcal_002.json\n",
      "  creating a new branch called 'PC_002_25_83' with 25 Samples\n",
      "  writing new params file to params-PC_002_25_83.txt\n",
      "\n"
     ]
    }
   ],
   "source": [
    "!ipyrad -p params-parcal_002.txt -b PC_002_25_83 parcal_25_goodDNA.txt"
   ]
  },
  {
   "cell_type": "code",
   "execution_count": 11,
   "metadata": {
    "collapsed": false,
    "deletable": true,
    "editable": true
   },
   "outputs": [
    {
     "name": "stdout",
     "output_type": "stream",
     "text": [
      "\n",
      "  loading Assembly: parcal_002\n",
      "  from saved path: /mnt/hgfs/SHARED_FOLDER/Learn_iPyrad/PARCAL_RUN1/parcal_002.json\n",
      "  creating a new branch called 'PC_002_25_84' with 25 Samples\n",
      "  writing new params file to params-PC_002_25_84.txt\n",
      "\n"
     ]
    }
   ],
   "source": [
    "!ipyrad -p params-parcal_002.txt -b PC_002_25_84 parcal_25_goodDNA.txt"
   ]
  },
  {
   "cell_type": "code",
   "execution_count": 12,
   "metadata": {
    "collapsed": false,
    "deletable": true,
    "editable": true,
    "scrolled": true
   },
   "outputs": [
    {
     "name": "stdout",
     "output_type": "stream",
     "text": [
      "\n",
      "  loading Assembly: parcal_002\n",
      "  from saved path: /mnt/hgfs/SHARED_FOLDER/Learn_iPyrad/PARCAL_RUN1/parcal_002.json\n",
      "  creating a new branch called 'PC_002_25_85' with 25 Samples\n",
      "  writing new params file to params-PC_002_25_85.txt\n",
      "\n"
     ]
    }
   ],
   "source": [
    "!ipyrad -p params-parcal_002.txt -b PC_002_25_85 parcal_25_goodDNA.txt"
   ]
  },
  {
   "cell_type": "code",
   "execution_count": 13,
   "metadata": {
    "collapsed": false,
    "deletable": true,
    "editable": true,
    "scrolled": true
   },
   "outputs": [
    {
     "name": "stdout",
     "output_type": "stream",
     "text": [
      "\n",
      "  loading Assembly: parcal_002\n",
      "  from saved path: /mnt/hgfs/SHARED_FOLDER/Learn_iPyrad/PARCAL_RUN1/parcal_002.json\n",
      "  creating a new branch called 'PC_002_25_87' with 25 Samples\n",
      "  writing new params file to params-PC_002_25_87.txt\n",
      "\n"
     ]
    }
   ],
   "source": [
    "!ipyrad -p params-parcal_002.txt -b PC_002_25_87 parcal_25_goodDNA.txt"
   ]
  },
  {
   "cell_type": "code",
   "execution_count": 14,
   "metadata": {
    "collapsed": false,
    "deletable": true,
    "editable": true,
    "scrolled": true
   },
   "outputs": [
    {
     "name": "stdout",
     "output_type": "stream",
     "text": [
      "\n",
      "  loading Assembly: parcal_002\n",
      "  from saved path: /mnt/hgfs/SHARED_FOLDER/Learn_iPyrad/PARCAL_RUN1/parcal_002.json\n",
      "  creating a new branch called 'PC_002_25_89' with 25 Samples\n",
      "  writing new params file to params-PC_002_25_89.txt\n",
      "\n"
     ]
    }
   ],
   "source": [
    "!ipyrad -p params-parcal_002.txt -b PC_002_25_89 parcal_25_goodDNA.txt"
   ]
  },
  {
   "cell_type": "code",
   "execution_count": 15,
   "metadata": {
    "collapsed": false,
    "deletable": true,
    "editable": true
   },
   "outputs": [
    {
     "name": "stdout",
     "output_type": "stream",
     "text": [
      "\n",
      "  loading Assembly: parcal_002\n",
      "  from saved path: /mnt/hgfs/SHARED_FOLDER/Learn_iPyrad/PARCAL_RUN1/parcal_002.json\n",
      "  creating a new branch called 'PC_002_25_92' with 25 Samples\n",
      "  writing new params file to params-PC_002_25_92.txt\n",
      "\n"
     ]
    }
   ],
   "source": [
    "!ipyrad -p params-parcal_002.txt -b PC_002_25_92 parcal_25_goodDNA.txt"
   ]
  },
  {
   "cell_type": "code",
   "execution_count": 16,
   "metadata": {
    "collapsed": false,
    "deletable": true,
    "editable": true
   },
   "outputs": [
    {
     "name": "stdout",
     "output_type": "stream",
     "text": [
      "\n",
      "  loading Assembly: parcal_002\n",
      "  from saved path: /mnt/hgfs/SHARED_FOLDER/Learn_iPyrad/PARCAL_RUN1/parcal_002.json\n",
      "  creating a new branch called 'PC_002_25_94' with 25 Samples\n",
      "  writing new params file to params-PC_002_25_94.txt\n",
      "\n"
     ]
    }
   ],
   "source": [
    "!ipyrad -p params-parcal_002.txt -b PC_002_25_94 parcal_25_goodDNA.txt"
   ]
  },
  {
   "cell_type": "code",
   "execution_count": 17,
   "metadata": {
    "collapsed": false,
    "deletable": true,
    "editable": true,
    "scrolled": true
   },
   "outputs": [
    {
     "name": "stdout",
     "output_type": "stream",
     "text": [
      "\n",
      "  loading Assembly: parcal_002\n",
      "  from saved path: /mnt/hgfs/SHARED_FOLDER/Learn_iPyrad/PARCAL_RUN1/parcal_002.json\n",
      "  creating a new branch called 'PC_002_25_96' with 25 Samples\n",
      "  writing new params file to params-PC_002_25_96.txt\n",
      "\n"
     ]
    }
   ],
   "source": [
    "!ipyrad -p params-parcal_002.txt -b PC_002_25_96 parcal_25_goodDNA.txt"
   ]
  },
  {
   "cell_type": "code",
   "execution_count": 19,
   "metadata": {
    "collapsed": false,
    "deletable": true,
    "editable": true
   },
   "outputs": [
    {
     "name": "stdout",
     "output_type": "stream",
     "text": [
      "\n",
      "  loading Assembly: parcal_002\n",
      "  from saved path: /mnt/hgfs/SHARED_FOLDER/Learn_iPyrad/PARCAL_RUN1/parcal_002.json\n",
      "  creating a new branch called 'PC_002_25_98' with 25 Samples\n",
      "  writing new params file to params-PC_002_25_98.txt\n",
      "\n"
     ]
    }
   ],
   "source": [
    "!ipyrad -p params-parcal_002.txt -b PC_002_25_98 parcal_25_goodDNA.txt"
   ]
  },
  {
   "cell_type": "markdown",
   "metadata": {
    "deletable": true,
    "editable": true
   },
   "source": [
    "Make bash script that will run Steps 3-7 of all of these branches over the weekend."
   ]
  },
  {
   "cell_type": "code",
   "execution_count": 20,
   "metadata": {
    "collapsed": false,
    "deletable": true,
    "editable": true
   },
   "outputs": [
    {
     "name": "stdout",
     "output_type": "stream",
     "text": [
      "#!/bin/bash\r\n",
      "ipyrad -p params-params-PC_002_25_75.txt -s 34567 -f\r\n",
      "ipyrad -p params-params-PC_002_25_78.txt -s 34567 -f\r\n",
      "ipyrad -p params-params-PC_002_25_80.txt -s 34567 -f\r\n",
      "ipyrad -p params-params-PC_002_25_81.txt -s 34567 -f\r\n",
      "ipyrad -p params-params-PC_002_25_82.txt -s 34567 -f\r\n",
      "ipyrad -p params-params-PC_002_25_83.txt -s 34567 -f\r\n",
      "ipyrad -p params-params-PC_002_25_84.txt -s 34567 -f\r\n",
      "ipyrad -p params-params-PC_002_25_85.txt -s 34567 -f\r\n",
      "ipyrad -p params-params-PC_002_25_87.txt -s 34567 -f\r\n",
      "ipyrad -p params-params-PC_002_25_89.txt -s 34567 -f\r\n",
      "ipyrad -p params-params-PC_002_25_92.txt -s 34567 -f\r\n",
      "ipyrad -p params-params-PC_002_25_94.txt -s 34567 -f\r\n",
      "ipyrad -p params-params-PC_002_25_96.txt -s 34567 -f\r\n",
      "ipyrad -p params-params-PC_002_25_98.txt -s 34567 -f\r\n"
     ]
    }
   ],
   "source": [
    "!head parcal_clust_branch.sh -n 15"
   ]
  },
  {
   "cell_type": "markdown",
   "metadata": {
    "deletable": true,
    "editable": true
   },
   "source": [
    "Double-checking that I indeed edited all of the clustering parameters... and now running outside the notebook!"
   ]
  },
  {
   "cell_type": "markdown",
   "metadata": {
    "collapsed": true,
    "deletable": true,
    "editable": true
   },
   "source": [
    "### Filtering and plotting\n",
    "\n",
    "I copied my filtering and plotting notebook into my cuke repo (here) and ran each branch through it. Then I made GIFs of the different pop gen stats. Results below.\n",
    "\n",
    "#### Before filtering for MAF of .05\n",
    "\n",
    "![img](https://github.com/nclowell/SeaCukes/blob/master/Imgs_for_Notebooks/fis_NOmaf_20170806.gif?raw=true)\n",
    "\n",
    "![img](https://github.com/nclowell/SeaCukes/blob/master/Imgs_for_Notebooks/ho_NOmaf_20170806.gif?raw=true)\n",
    "\n",
    "![img](https://github.com/nclowell/SeaCukes/blob/master/Imgs_for_Notebooks/hs_NOmaf_20170806.gif?raw=true)\n",
    "\n",
    "#### After filtering for MAF of .05\n",
    "\n",
    "![img](https://github.com/nclowell/SeaCukes/blob/master/Imgs_for_Notebooks/fis_maf_20170806.gif?raw=true)\n",
    "\n",
    "![img](https://github.com/nclowell/SeaCukes/blob/master/Imgs_for_Notebooks/ho_maf_20170806.gif?raw=true)\n",
    "\n",
    "![img](https://github.com/nclowell/SeaCukes/blob/master/Imgs_for_Notebooks/hs_maf_20170806.gif?raw=true)"
   ]
  },
  {
   "cell_type": "markdown",
   "metadata": {},
   "source": [
    "It seems like there are a couple small changes in pattern as clustering similarity changes. Haven't quite made sense of it yet though!\n",
    "\n",
    "###  Loci at filtering steps vs. clustering similarity"
   ]
  },
  {
   "cell_type": "code",
   "execution_count": 3,
   "metadata": {
    "collapsed": false,
    "scrolled": true
   },
   "outputs": [
    {
     "data": {
      "image/png": "[encoded data removed]",
      "text/plain": [
       "<matplotlib.figure.Figure at 0x7f936c345d90>"
      ]
     },
     "metadata": {},
     "output_type": "display_data"
    }
   ],
   "source": [
    "import matplotlib.pyplot as plt\n",
    "import numpy as np\n",
    "\n",
    "steps = [1,2,3,4,5,6,7]\n",
    "\n",
    "# pulled counts from the .stats files in step 7\n",
    "c75_steps = [24371,22320,17938,12536,12536,2947,2947]\n",
    "c78_steps = [25078,22682,18716,13410,13410,3359,3359]\n",
    "c80_steps = [25539,22921,19211,14204,14204,3763,3763]\n",
    "c81_steps = [25926,23258,19575,14688,14688,4006,4006]\n",
    "c82_steps = [26249,23343,19922,15330,15330,4389,4389]\n",
    "c83_steps = [26696,23614,20361,16018,16018,4704,4704]\n",
    "c84_steps = [27181,23921,20847,16695,16695,5010,5010]\n",
    "c85_steps = [27872,24309,21564,17851,17851,5559,5559]\n",
    "c87_steps = [29364,25295,23037,20177,20177,6540,6540]\n",
    "c89_steps = [31517,26843,25181,23007,23007,7385,7385]\n",
    "c92_steps = [36472,31168,30312,29211,29211,8756,8756]\n",
    "c94_steps = [41874,36280,36024,35668,35668,9642,9642]\n",
    "c96_steps = [50380,44821,44759,44711,44711,10106,10106]\n",
    "c98_steps = [64184,59435,59427,59424,59424,10263,10263]\n",
    "step_labels = ['Prefilter','Rem duplcates','Max indels','Max SNPs','Max shared het','Min samples','Max alleles']\n",
    "\n",
    "# plot together\n",
    "plt.plot(steps, c98_steps, label = '98%')\n",
    "plt.plot(steps, c96_steps, label = '96%')\n",
    "plt.plot(steps, c94_steps, label = '94%')\n",
    "plt.plot(steps, c92_steps, label = '92%')\n",
    "plt.plot(steps, c89_steps, label = '89%')\n",
    "plt.plot(steps, c87_steps, label = '87%')\n",
    "plt.plot(steps, c85_steps, label = '85%')\n",
    "plt.plot(steps, c84_steps, label = '84%')\n",
    "plt.plot(steps, c83_steps, label = '83%')\n",
    "plt.plot(steps, c82_steps, label = '82%')\n",
    "plt.plot(steps, c81_steps, label = '81%')\n",
    "plt.plot(steps, c80_steps, label = '80%')\n",
    "plt.plot(steps, c78_steps, label = '78%')\n",
    "plt.plot(steps, c75_steps, label = '75%')\n",
    "\n",
    "plt.legend(loc = 'center left', bbox_to_anchor=(1, 0.5))\n",
    "\n",
    "plt.title(\"Retained loci at each filtering step in ipyrad\\n25 sea cukes, different clust thresholds\")\n",
    "plt.ylabel(\"Retained loci\")\n",
    "plt.xticks(steps, step_labels, rotation=30)\n",
    "\n",
    "plt.show()"
   ]
  },
  {
   "cell_type": "markdown",
   "metadata": {},
   "source": [
    "### Branches with max alleles set to 2, to get percentage of loci lost due to polyploid genotypes\n",
    "\n",
    "I need to know how many loci get filtered out for max alleles (=2) if I want to count polyploid genotypes. So, going to make branches with max alleles = 2 and rerun step 7."
   ]
  },
  {
   "cell_type": "code",
   "execution_count": 7,
   "metadata": {
    "collapsed": false
   },
   "outputs": [
    {
     "name": "stdout",
     "output_type": "stream",
     "text": [
      "/mnt/hgfs/SHARED_FOLDER/Learn_iPyrad/PARCAL_RUN1\n"
     ]
    }
   ],
   "source": [
    "cd /mnt/hgfs/SHARED_FOLDER/Learn_iPyrad/PARCAL_RUN1"
   ]
  },
  {
   "cell_type": "code",
   "execution_count": 8,
   "metadata": {
    "collapsed": false
   },
   "outputs": [
    {
     "name": "stdout",
     "output_type": "stream",
     "text": [
      "\n",
      "  loading Assembly: PC_002_25_75\n",
      "  from saved path: /mnt/hgfs/SHARED_FOLDER/Learn_iPyrad/PARCAL_RUN1/PC_002_25_75.json\n",
      "  creating a new branch called 'PC_002_25_75_MA2' with 25 Samples\n",
      "  writing new params file to params-PC_002_25_75_MA2.txt\n",
      "\n"
     ]
    }
   ],
   "source": [
    "!ipyrad -p params-PC_002_25_75.txt -b PC_002_25_75_MA2"
   ]
  },
  {
   "cell_type": "code",
   "execution_count": 9,
   "metadata": {
    "collapsed": false
   },
   "outputs": [
    {
     "name": "stdout",
     "output_type": "stream",
     "text": [
      "\n",
      "  loading Assembly: PC_002_25_78\n",
      "  from saved path: /mnt/hgfs/SHARED_FOLDER/Learn_iPyrad/PARCAL_RUN1/PC_002_25_78.json\n",
      "  creating a new branch called 'PC_002_25_78_MA2' with 25 Samples\n",
      "  writing new params file to params-PC_002_25_78_MA2.txt\n",
      "\n"
     ]
    }
   ],
   "source": [
    "!ipyrad -p params-PC_002_25_78.txt -b PC_002_25_78_MA2"
   ]
  },
  {
   "cell_type": "code",
   "execution_count": 10,
   "metadata": {
    "collapsed": false
   },
   "outputs": [
    {
     "name": "stdout",
     "output_type": "stream",
     "text": [
      "\n",
      "  loading Assembly: PC_002_25_80\n",
      "  from saved path: /mnt/hgfs/SHARED_FOLDER/Learn_iPyrad/PARCAL_RUN1/PC_002_25_80.json\n",
      "  creating a new branch called 'PC_002_25_80_MA2' with 25 Samples\n",
      "  writing new params file to params-PC_002_25_80_MA2.txt\n",
      "\n"
     ]
    }
   ],
   "source": [
    "!ipyrad -p params-PC_002_25_80.txt -b PC_002_25_80_MA2"
   ]
  },
  {
   "cell_type": "code",
   "execution_count": 11,
   "metadata": {
    "collapsed": false
   },
   "outputs": [
    {
     "name": "stdout",
     "output_type": "stream",
     "text": [
      "\n",
      "  loading Assembly: PC_002_25_81\n",
      "  from saved path: /mnt/hgfs/SHARED_FOLDER/Learn_iPyrad/PARCAL_RUN1/PC_002_25_81.json\n",
      "  creating a new branch called 'PC_002_25_81_MA2' with 25 Samples\n",
      "  writing new params file to params-PC_002_25_81_MA2.txt\n",
      "\n"
     ]
    }
   ],
   "source": [
    "!ipyrad -p params-PC_002_25_81.txt -b PC_002_25_81_MA2"
   ]
  },
  {
   "cell_type": "code",
   "execution_count": 12,
   "metadata": {
    "collapsed": false
   },
   "outputs": [
    {
     "name": "stdout",
     "output_type": "stream",
     "text": [
      "\n",
      "  loading Assembly: PC_002_25_82\n",
      "  from saved path: /mnt/hgfs/SHARED_FOLDER/Learn_iPyrad/PARCAL_RUN1/PC_002_25_82.json\n",
      "  creating a new branch called 'PC_002_25_82_MA2' with 25 Samples\n",
      "  writing new params file to params-PC_002_25_82_MA2.txt\n",
      "\n"
     ]
    }
   ],
   "source": [
    "!ipyrad -p params-PC_002_25_82.txt -b PC_002_25_82_MA2"
   ]
  },
  {
   "cell_type": "code",
   "execution_count": 13,
   "metadata": {
    "collapsed": false
   },
   "outputs": [
    {
     "name": "stdout",
     "output_type": "stream",
     "text": [
      "\n",
      "  loading Assembly: PC_002_25_83\n",
      "  from saved path: /mnt/hgfs/SHARED_FOLDER/Learn_iPyrad/PARCAL_RUN1/PC_002_25_83.json\n",
      "  creating a new branch called 'PC_002_25_83_MA2' with 25 Samples\n",
      "  writing new params file to params-PC_002_25_83_MA2.txt\n",
      "\n"
     ]
    }
   ],
   "source": [
    "!ipyrad -p params-PC_002_25_83.txt -b PC_002_25_83_MA2"
   ]
  },
  {
   "cell_type": "code",
   "execution_count": 14,
   "metadata": {
    "collapsed": false
   },
   "outputs": [
    {
     "name": "stdout",
     "output_type": "stream",
     "text": [
      "\n",
      "  loading Assembly: PC_002_25_84\n",
      "  from saved path: /mnt/hgfs/SHARED_FOLDER/Learn_iPyrad/PARCAL_RUN1/PC_002_25_84.json\n",
      "  creating a new branch called 'PC_002_25_84_MA2' with 25 Samples\n",
      "  writing new params file to params-PC_002_25_84_MA2.txt\n",
      "\n"
     ]
    }
   ],
   "source": [
    "!ipyrad -p params-PC_002_25_84.txt -b PC_002_25_84_MA2"
   ]
  },
  {
   "cell_type": "code",
   "execution_count": 15,
   "metadata": {
    "collapsed": false
   },
   "outputs": [
    {
     "name": "stdout",
     "output_type": "stream",
     "text": [
      "\n",
      "  loading Assembly: PC_002_25_85\n",
      "  from saved path: /mnt/hgfs/SHARED_FOLDER/Learn_iPyrad/PARCAL_RUN1/PC_002_25_85.json\n",
      "  creating a new branch called 'PC_002_25_85_MA2' with 25 Samples\n",
      "  writing new params file to params-PC_002_25_85_MA2.txt\n",
      "\n"
     ]
    }
   ],
   "source": [
    "!ipyrad -p params-PC_002_25_85.txt -b PC_002_25_85_MA2"
   ]
  },
  {
   "cell_type": "code",
   "execution_count": 16,
   "metadata": {
    "collapsed": false
   },
   "outputs": [
    {
     "name": "stdout",
     "output_type": "stream",
     "text": [
      "\n",
      "  loading Assembly: PC_002_25_87\n",
      "  from saved path: /mnt/hgfs/SHARED_FOLDER/Learn_iPyrad/PARCAL_RUN1/PC_002_25_87.json\n",
      "  creating a new branch called 'PC_002_25_87_MA2' with 25 Samples\n",
      "  writing new params file to params-PC_002_25_87_MA2.txt\n",
      "\n"
     ]
    }
   ],
   "source": [
    "!ipyrad -p params-PC_002_25_87.txt -b PC_002_25_87_MA2"
   ]
  },
  {
   "cell_type": "code",
   "execution_count": 17,
   "metadata": {
    "collapsed": false
   },
   "outputs": [
    {
     "name": "stdout",
     "output_type": "stream",
     "text": [
      "\n",
      "  loading Assembly: PC_002_25_89\n",
      "  from saved path: /mnt/hgfs/SHARED_FOLDER/Learn_iPyrad/PARCAL_RUN1/PC_002_25_89.json\n",
      "  creating a new branch called 'PC_002_25_89_MA2' with 25 Samples\n",
      "  writing new params file to params-PC_002_25_89_MA2.txt\n",
      "\n"
     ]
    }
   ],
   "source": [
    "!ipyrad -p params-PC_002_25_89.txt -b PC_002_25_89_MA2"
   ]
  },
  {
   "cell_type": "code",
   "execution_count": 18,
   "metadata": {
    "collapsed": false
   },
   "outputs": [
    {
     "name": "stdout",
     "output_type": "stream",
     "text": [
      "\n",
      "  loading Assembly: PC_002_25_92\n",
      "  from saved path: /mnt/hgfs/SHARED_FOLDER/Learn_iPyrad/PARCAL_RUN1/PC_002_25_92.json\n",
      "  creating a new branch called 'PC_002_25_92_MA2' with 25 Samples\n",
      "  writing new params file to params-PC_002_25_92_MA2.txt\n",
      "\n"
     ]
    }
   ],
   "source": [
    "!ipyrad -p params-PC_002_25_92.txt -b PC_002_25_92_MA2"
   ]
  },
  {
   "cell_type": "code",
   "execution_count": 19,
   "metadata": {
    "collapsed": false
   },
   "outputs": [
    {
     "name": "stdout",
     "output_type": "stream",
     "text": [
      "\n",
      "  loading Assembly: PC_002_25_94\n",
      "  from saved path: /mnt/hgfs/SHARED_FOLDER/Learn_iPyrad/PARCAL_RUN1/PC_002_25_94.json\n",
      "  creating a new branch called 'PC_002_25_94_MA2' with 25 Samples\n",
      "  writing new params file to params-PC_002_25_94_MA2.txt\n",
      "\n"
     ]
    }
   ],
   "source": [
    "!ipyrad -p params-PC_002_25_94.txt -b PC_002_25_94_MA2"
   ]
  },
  {
   "cell_type": "code",
   "execution_count": 20,
   "metadata": {
    "collapsed": false
   },
   "outputs": [
    {
     "name": "stdout",
     "output_type": "stream",
     "text": [
      "\n",
      "  loading Assembly: PC_002_25_96\n",
      "  from saved path: /mnt/hgfs/SHARED_FOLDER/Learn_iPyrad/PARCAL_RUN1/PC_002_25_96.json\n",
      "  creating a new branch called 'PC_002_25_96_MA2' with 25 Samples\n",
      "  writing new params file to params-PC_002_25_96_MA2.txt\n",
      "\n"
     ]
    }
   ],
   "source": [
    "!ipyrad -p params-PC_002_25_96.txt -b PC_002_25_96_MA2"
   ]
  },
  {
   "cell_type": "code",
   "execution_count": 21,
   "metadata": {
    "collapsed": false
   },
   "outputs": [
    {
     "name": "stdout",
     "output_type": "stream",
     "text": [
      "\n",
      "  loading Assembly: PC_002_25_98\n",
      "  from saved path: /mnt/hgfs/SHARED_FOLDER/Learn_iPyrad/PARCAL_RUN1/PC_002_25_98.json\n",
      "  creating a new branch called 'PC_002_25_98_MA2' with 25 Samples\n",
      "  writing new params file to params-PC_002_25_98_MA2.txt\n",
      "\n"
     ]
    }
   ],
   "source": [
    "!ipyrad -p params-PC_002_25_98.txt -b PC_002_25_98_MA2"
   ]
  },
  {
   "cell_type": "markdown",
   "metadata": {},
   "source": [
    "Made a shell script to run these branches (with two max alleles) through the terminal, because they need to run from step 4 through step 7 and that is bound to crash my notebook. Here's the shell script:"
   ]
  },
  {
   "cell_type": "code",
   "execution_count": 22,
   "metadata": {
    "collapsed": false
   },
   "outputs": [
    {
     "name": "stdout",
     "output_type": "stream",
     "text": [
      "#!/bin/bash\r\n",
      "ipyrad -p params-PC_002_25_75_MA2.txt -s 4567 -f\r\n",
      "ipyrad -p params-PC_002_25_78_MA2.txt -s 4567 -f\r\n",
      "ipyrad -p params-PC_002_25_80_MA2.txt -s 4567 -f\r\n",
      "ipyrad -p params-PC_002_25_81_MA2.txt -s 4567 -f\r\n",
      "ipyrad -p params-PC_002_25_82_MA2.txt -s 4567 -f\r\n",
      "ipyrad -p params-PC_002_25_83_MA2.txt -s 4567 -f\r\n",
      "ipyrad -p params-PC_002_25_84_MA2.txt -s 4567 -f\r\n",
      "ipyrad -p params-PC_002_25_85_MA2.txt -s 4567 -f\r\n",
      "ipyrad -p params-PC_002_25_87_MA2.txt -s 4567 -f\r\n",
      "ipyrad -p params-PC_002_25_89_MA2.txt -s 4567 -f\r\n",
      "ipyrad -p params-PC_002_25_92_MA2.txt -s 4567 -f\r\n",
      "ipyrad -p params-PC_002_25_94_MA2.txt -s 4567 -f\r\n",
      "ipyrad -p params-PC_002_25_96_MA2.txt -s 4567 -f\r\n",
      "ipyrad -p params-PC_002_25_98_MA2.txt -s 4567 -f\r\n"
     ]
    }
   ],
   "source": [
    "!head parcal_clust_branch_MA2.sh -n 15"
   ]
  },
  {
   "cell_type": "code",
   "execution_count": 34,
   "metadata": {
    "collapsed": false
   },
   "outputs": [
    {
     "data": {
      "image/png": "[encoded data removed]",
      "text/plain": [
       "<matplotlib.figure.Figure at 0x7f9369d40bd0>"
      ]
     },
     "metadata": {},
     "output_type": "display_data"
    }
   ],
   "source": [
    "c75_MA = float(2947-1987)/float(2947)\n",
    "c78_MA = float(3359-2265)/float(3359)\n",
    "c80_MA = float(3763-2536)/float(3763)\n",
    "c81_MA = float(4006-2713)/float(4006)\n",
    "c82_MA = float(4389-2986)/float(4389)\n",
    "c83_MA = float(4704-3223)/float(4704)\n",
    "c84_MA = float(5010-3435)/float(5010)\n",
    "c85_MA = float(5559-3800)/float(5559)\n",
    "c87_MA = float(6540-4522)/float(6540)\n",
    "c89_MA = float(7385-5136)/float(7385)\n",
    "c92_MA = float(8756-6197)/float(8756)\n",
    "c94_MA = float(9642-7018)/float(9642)\n",
    "c96_MA = float(10106-7967)/float(10106)\n",
    "c98_MA = float(10263-9190)/float(10263)\n",
    "\n",
    "MAs = [c75_MA,c78_MA,c80_MA,c81_MA,c82_MA,c83_MA,c84_MA,c85_MA,c87_MA,c89_MA,c92_MA,c94_MA,c96_MA,c98_MA]\n",
    "clusts = [75,78,80,81,82,83,84,85,87,89,92,94,96,98]\n",
    "\n",
    "plt.plot(clusts, MAs)\n",
    "plt.xlabel(\"clustering similarity %\")\n",
    "plt.ylabel(\"prop loci lost at max alleles = 2\")\n",
    "plt.show()\n"
   ]
  },
  {
   "cell_type": "markdown",
   "metadata": {},
   "source": [
    "### Illut figures \n",
    "\n",
    "**20170808**\n",
    "\n",
    "A la Katherine, following her Google Sheet she sent me with her Oly results.\n",
    "\n",
    "I'll need to double-check with her that our metrics are the same, but so far I think they are! I wrote a script to parse this information out of Step7 stats output files. Need to fix it up and explain it in a notebook.\n",
    "\n",
    "![img]()\n",
    "\n",
    "![img]()\n",
    "\n",
    "![img]()\n",
    "\n",
    "![img]()\n",
    "\n",
    "![img]()"
   ]
  }
 ],
 "metadata": {
  "kernelspec": {
   "display_name": "Python 2",
   "language": "python",
   "name": "python2"
  },
  "language_info": {
   "codemirror_mode": {
    "name": "ipython",
    "version": 2
   },
   "file_extension": ".py",
   "mimetype": "text/x-python",
   "name": "python",
   "nbconvert_exporter": "python",
   "pygments_lexer": "ipython2",
   "version": "2.7.13"
  }
 },
 "nbformat": 4,
 "nbformat_minor": 2
}
