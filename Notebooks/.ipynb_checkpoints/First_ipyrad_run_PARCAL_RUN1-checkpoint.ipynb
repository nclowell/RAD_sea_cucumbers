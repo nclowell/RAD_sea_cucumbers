{
 "cells": [
  {
   "cell_type": "markdown",
   "metadata": {
    "deletable": true,
    "editable": true
   },
   "source": [
    "## First ipyrad run\n",
    "\n",
    "**20170801**\n",
    "\n",
    "I'm going to use the same parameters I've been working with with scallops to do a first look at the sea cucumber data for comparison."
   ]
  },
  {
   "cell_type": "code",
   "execution_count": 2,
   "metadata": {
    "collapsed": false,
    "deletable": true,
    "editable": true
   },
   "outputs": [
    {
     "name": "stdout",
     "output_type": "stream",
     "text": [
      "/mnt/hgfs/SHARED_FOLDER/Learn_iPyrad/PARCAL_RUN1\n"
     ]
    }
   ],
   "source": [
    "cd /mnt/hgfs/SHARED_FOLDER/Learn_iPyrad/PARCAL_RUN1"
   ]
  },
  {
   "cell_type": "code",
   "execution_count": 4,
   "metadata": {
    "collapsed": false,
    "deletable": true,
    "editable": true
   },
   "outputs": [
    {
     "name": "stdout",
     "output_type": "stream",
     "text": [
      "\r\n",
      " -------------------------------------------------------------\r\n",
      "  ipyrad [v.0.6.20]\r\n",
      "  Interactive assembly and analysis of RAD-seq data\r\n",
      " -------------------------------------------------------------\r\n",
      "\r\n",
      "  A new version of ipyrad is available (v.0.7.8). To upgrade run:\r\n",
      "\r\n",
      "    conda install -c ipyrad ipyrad\r\n",
      "\r\n",
      "\r\n",
      "  New file 'params-parcal_001.txt' created in /mnt/hgfs/SHARED_FOLDER/Learn_iPyrad/PARCAL_RUN1\r\n",
      "\r\n"
     ]
    }
   ],
   "source": [
    "!ipyrad -n parcal_001"
   ]
  },
  {
   "cell_type": "markdown",
   "metadata": {
    "deletable": true,
    "editable": true
   },
   "source": [
    "I made a barcodes file:"
   ]
  },
  {
   "cell_type": "code",
   "execution_count": 5,
   "metadata": {
    "collapsed": false,
    "deletable": true,
    "editable": true
   },
   "outputs": [
    {
     "name": "stdout",
     "output_type": "stream",
     "text": [
      "1_A7\tAAACGG\r\n",
      "1_A8\tGCCGTA\r\n",
      "1_A10\tACTCTT\r\n",
      "1_B7\tTTCTAG\r\n",
      "1_B12\tATTCCG\r\n",
      "1_C7\tCCGCAT\r\n",
      "1_C8\tCGAGGC\r\n",
      "1_C11\tCGCAGA\r\n",
      "1_D7\tGAGAGA\r\n",
      "1_D8\tGGGGCG\r\n"
     ]
    }
   ],
   "source": [
    "!head barcodes_parcal1.txt -n 10"
   ]
  },
  {
   "cell_type": "markdown",
   "metadata": {
    "deletable": true,
    "editable": true
   },
   "source": [
    "And I updated the params file:"
   ]
  },
  {
   "cell_type": "code",
   "execution_count": 6,
   "metadata": {
    "collapsed": false,
    "deletable": true,
    "editable": true
   },
   "outputs": [
    {
     "name": "stdout",
     "output_type": "stream",
     "text": [
      "------- ipyrad params file (v.0.6.20)-------------------------------------------\r\n",
      "parcal_001                     ## [0] [assembly_name]: Assembly name. Used to name output directories for assembly steps\r\n",
      "./                             ## [1] [project_dir]: Project dir (made in curdir if not present)\r\n",
      "/mnt/hgfs/Data/PARCAL/PARCAL_RUN1/raw_data/PARCAL_RUN1_1.fq.gz      ## [2] [raw_fastq_path]: Location of raw non-demultiplexed fastq files\r\n",
      "./barcodes_parcal1.txt         ## [3] [barcodes_path]: Location of barcodes file\r\n",
      "                               ## [4] [sorted_fastq_path]: Location of demultiplexed/sorted fastq files\r\n",
      "denovo                         ## [5] [assembly_method]: Assembly method (denovo, reference, denovo+reference, denovo-reference)\r\n",
      "                               ## [6] [reference_sequence]: Location of reference sequence file\r\n",
      "rad                            ## [7] [datatype]: Datatype (see docs): rad, gbs, ddrad, etc.\r\n",
      "TGCAGG,                         ## [8] [restriction_overhang]: Restriction overhang (cut1,) or (cut1, cut2)\r\n",
      "5                              ## [9] [max_low_qual_bases]: Max low quality base calls (Q<20) in a read\r\n",
      "33                             ## [10] [phred_Qscore_offset]: phred Q score offset (33 is default and very standard)\r\n",
      "10                              ## [11] [mindepth_statistical]: Min depth for statistical base calling\r\n",
      "10                             ## [12] [mindepth_majrule]: Min depth for majority-rule base calling\r\n",
      "2000                          ## [13] [maxdepth]: Max cluster depth within samples\r\n",
      "0.86                           ## [14] [clust_threshold]: Clustering threshold for de novo assembly\r\n",
      "0                              ## [15] [max_barcode_mismatch]: Max number of allowable mismatches in barcodes\r\n",
      "2                              ## [16] [filter_adapters]: Filter for adapters/primers (1 or 2=stricter)\r\n",
      "35                             ## [17] [filter_min_trim_len]: Min length of reads after adapter trim\r\n",
      "10                              ## [18] [max_alleles_consens]: Max alleles per site in consensus sequences\r\n",
      "5, 5                           ## [19] [max_Ns_consens]: Max N's (uncalled bases) in consensus (R1, R2)\r\n",
      "100, 100                           ## [20] [max_Hs_consens]: Max Hs (heterozygotes) in consensus (R1, R2)\r\n",
      "10                              ## [21] [min_samples_locus]: Min # samples per locus for output\r\n",
      "20, 20                         ## [22] [max_SNPs_locus]: Max # SNPs per locus (R1, R2)\r\n",
      "8, 8                           ## [23] [max_Indels_locus]: Max # of indels per locus (R1, R2)\r\n",
      "1.0                            ## [24] [max_shared_Hs_locus]: Max # heterozygous sites per locus (R1, R2)\r\n",
      "0, 0, 0, 0                     ## [25] [trim_reads]: Trim raw read edges (R1>, <R1, R2>, <R2) (see docs)\r\n",
      "0, 0, 0, 0                     ## [26] [trim_loci]: Trim locus edges (see docs) (R1>, <R1, R2>, <R2)\r\n",
      "p, s, v                        ## [27] [output_formats]: Output formats (see docs)\r\n",
      "                               ## [28] [pop_assign_file]: Path to population assignment file\r\n"
     ]
    }
   ],
   "source": [
    "!head params-parcal_001.txt -n 30"
   ]
  },
  {
   "cell_type": "markdown",
   "metadata": {
    "deletable": true,
    "editable": true
   },
   "source": [
    "Then I ran all steps outside the notebook:\n",
    "\n",
    "```\n",
    "ipyrad -p params-parcal_001.txt -s 1234567\n",
    "```"
   ]
  },
  {
   "cell_type": "code",
   "execution_count": 4,
   "metadata": {
    "collapsed": false,
    "deletable": true,
    "editable": true
   },
   "outputs": [
    {
     "name": "stdout",
     "output_type": "stream",
     "text": [
      "/mnt/hgfs/SHARED_FOLDER/Learn_iPyrad/PARCAL_RUN1/parcal_002_outfiles\n"
     ]
    }
   ],
   "source": [
    "cd parcal_002_outfiles/"
   ]
  },
  {
   "cell_type": "code",
   "execution_count": 5,
   "metadata": {
    "collapsed": false,
    "deletable": true,
    "editable": true
   },
   "outputs": [
    {
     "name": "stdout",
     "output_type": "stream",
     "text": [
      "\r\n",
      "\r\n",
      "## The number of loci caught by each filter.\r\n",
      "## ipyrad API location: [assembly].stats_dfs.s7_filters\r\n",
      "\r\n",
      "                            total_filters  applied_order  retained_loci\r\n",
      "total_prefiltered_loci              52408              0          52408\r\n",
      "filtered_by_rm_duplicates            6994           6994          45414\r\n",
      "filtered_by_max_indels               5598           5598          39816\r\n",
      "filtered_by_max_snps                15585           6579          33237\r\n",
      "filtered_by_max_shared_het              0              0          33237\r\n",
      "filtered_by_min_sample              30534          25530           7707\r\n",
      "filtered_by_max_alleles                 0              0           7707\r\n",
      "total_filtered_loci                  7707              0           7707\r\n",
      "\r\n"
     ]
    }
   ],
   "source": [
    "!head parcal_002_stats.txt -n 15"
   ]
  },
  {
   "cell_type": "markdown",
   "metadata": {
    "deletable": true,
    "editable": true
   },
   "source": [
    "**20170803**\n",
    "\n",
    "I took a first look through the stats file, and it looks like one sample had super low read depth, and a few others had lower read depth (maybe 10-20% of the average), so I'll need to toss those out and rerun the assembly. That might give me more loci, as 7707 isn't very much.\n",
    "\n",
    "I decided to make an arbitrary cut off at 1 million reads, and through out the handful of samples that had less than that for raw reads. Rerunning that branch now, will call if parcal003."
   ]
  },
  {
   "cell_type": "code",
   "execution_count": 8,
   "metadata": {
    "collapsed": false,
    "deletable": true,
    "editable": true
   },
   "outputs": [
    {
     "name": "stdout",
     "output_type": "stream",
     "text": [
      "\n",
      "  loading Assembly: parcal_002\n",
      "  from saved path: /mnt/hgfs/SHARED_FOLDER/Learn_iPyrad/PARCAL_RUN1/parcal_002.json\n",
      "  creating a new branch called 'parcal_003' with 77 Samples\n",
      "  writing new params file to params-parcal_003.txt\n",
      "\n"
     ]
    }
   ],
   "source": [
    "!ipyrad -p params-parcal_002.txt -b parcal_003 parcal1_1M_cutoff.txt"
   ]
  },
  {
   "cell_type": "markdown",
   "metadata": {
    "deletable": true,
    "editable": true
   },
   "source": [
    "Now running steps 3-7 of parcal_003 branch, outside the notebook."
   ]
  },
  {
   "cell_type": "markdown",
   "metadata": {
    "collapsed": true,
    "deletable": true,
    "editable": true
   },
   "source": [
    "### Run was successful!\n",
    "\n",
    "Here's the top of the stats7 output file:"
   ]
  },
  {
   "cell_type": "code",
   "execution_count": 5,
   "metadata": {
    "collapsed": false,
    "deletable": true,
    "editable": true
   },
   "outputs": [
    {
     "name": "stdout",
     "output_type": "stream",
     "text": [
      "/mnt/hgfs/SHARED_FOLDER/Learn_iPyrad/PARCAL_RUN1/parcal_003_outfiles\n"
     ]
    }
   ],
   "source": [
    "cd /mnt/hgfs/SHARED_FOLDER/Learn_iPyrad/PARCAL_RUN1/parcal_003_outfiles"
   ]
  },
  {
   "cell_type": "code",
   "execution_count": 6,
   "metadata": {
    "collapsed": false,
    "deletable": true,
    "editable": true
   },
   "outputs": [
    {
     "name": "stdout",
     "output_type": "stream",
     "text": [
      "\r\n",
      "\r\n",
      "## The number of loci caught by each filter.\r\n",
      "## ipyrad API location: [assembly].stats_dfs.s7_filters\r\n",
      "\r\n",
      "                            total_filters  applied_order  retained_loci\r\n",
      "total_prefiltered_loci              51898              0          51898\r\n",
      "filtered_by_rm_duplicates            6974           6974          44924\r\n",
      "filtered_by_max_indels               5497           5497          39427\r\n",
      "filtered_by_max_snps                15418           6537          32890\r\n",
      "filtered_by_max_shared_het              0              0          32890\r\n",
      "filtered_by_min_sample              30214          25265           7625\r\n",
      "filtered_by_max_alleles                 0              0           7625\r\n",
      "total_filtered_loci                  7625              0           7625\r\n",
      "\r\n"
     ]
    }
   ],
   "source": [
    "!head parcal_003_stats.txt -n 15"
   ]
  },
  {
   "cell_type": "markdown",
   "metadata": {
    "deletable": true,
    "editable": true
   },
   "source": [
    "I did get more loci, but not many more. Probably worth looking into the genome size. Also, I made plots to look for correlation between DNA quality (as verified on a gel before RAD library prep) and read depth and number of loci.\n",
    "\n",
    "![img](https://github.com/nclowell/SeaCukes/blob/master/Imgs_for_Notebooks/rd_by_DNA_qual_20170804.png?raw=true)\n",
    "\n",
    "\n",
    "<br>\n",
    "<br>\n",
    "<br>\n",
    "\n",
    "![img](https://github.com/nclowell/SeaCukes/blob/master/Imgs_for_Notebooks/num_loci_by_DNA_qual_20170804.png?raw=true)\n",
    "\n",
    "So I'd also like to run an ipyrad assembly by tossing out those with poor DNA quality, because although they have pretty high read depth, maybe the sequencing quality is low and many more things are getting tossed out."
   ]
  },
  {
   "cell_type": "code",
   "execution_count": null,
   "metadata": {
    "collapsed": true,
    "deletable": true,
    "editable": true
   },
   "outputs": [],
   "source": []
  }
 ],
 "metadata": {
  "kernelspec": {
   "display_name": "Python 2",
   "language": "python",
   "name": "python2"
  },
  "language_info": {
   "codemirror_mode": {
    "name": "ipython",
    "version": 2
   },
   "file_extension": ".py",
   "mimetype": "text/x-python",
   "name": "python",
   "nbconvert_exporter": "python",
   "pygments_lexer": "ipython2",
   "version": "2.7.13"
  }
 },
 "nbformat": 4,
 "nbformat_minor": 2
}
