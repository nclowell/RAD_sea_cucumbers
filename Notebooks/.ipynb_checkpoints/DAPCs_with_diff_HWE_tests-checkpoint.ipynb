{
 "cells": [
  {
   "cell_type": "markdown",
   "metadata": {},
   "source": [
    "## Comparing DAPCs on data filtered with Chi Squared test, Fisher test, and both\n",
    "\n",
    "**20180711**\n",
    "\n",
    "Lorenz filtered the sea cucumber data with two different kinds of Hardy Weinberg tests. I made DAPCs using loci that passed each test and both tests, so that we could see what effect each method had on the patterns in population differentiation. It doesn't seem like the methods produce radically different DAPCs.\n",
    "\n",
    "![img](https://github.com/nclowell/SeaCukes/blob/master/Imgs_for_Notebooks/chi_HWE_test_20180711.png?raw=true)\n",
    "\n",
    "![img](https://github.com/nclowell/SeaCukes/blob/master/Imgs_for_Notebooks/fisher_HWE_test_20180711.png?raw=true)\n",
    "\n",
    "![img](https://github.com/nclowell/SeaCukes/blob/master/Imgs_for_Notebooks/both_HWE_tests_20180711.png?raw=true)"
   ]
  }
 ],
 "metadata": {
  "kernelspec": {
   "display_name": "Python 3",
   "language": "python",
   "name": "python3"
  },
  "language_info": {
   "codemirror_mode": {
    "name": "ipython",
    "version": 3
   },
   "file_extension": ".py",
   "mimetype": "text/x-python",
   "name": "python",
   "nbconvert_exporter": "python",
   "pygments_lexer": "ipython3",
   "version": "3.6.5"
  }
 },
 "nbformat": 4,
 "nbformat_minor": 2
}
