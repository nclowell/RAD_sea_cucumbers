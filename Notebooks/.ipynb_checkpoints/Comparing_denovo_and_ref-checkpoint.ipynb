{
 "cells": [
  {
   "cell_type": "markdown",
   "metadata": {},
   "source": [
    "# De novo, ref, and ref + de novo\n",
    "\n",
    "**20180618**\n",
    "\n",
    "Another RADseq paper on *Parastichopus californicus* came out this year and they aligned to a closely related genome, *Parastichopus parvimensis*. I wanted to compare my de novo assembly with an assembly using that genome as a reference. Additionally, ipyrad has a reference + de novo option. So,I made three ipyrad assemblies that only differ in whether they're assembled de novo, with a reference, or both. I'd like to know,\n",
    "\n",
    "<br>[1] Which produces the most loci?\n",
    "<br>[2] How does assembly method affect % loci lost at HWE filtering?\n",
    "<br>[3] Are the loci produced in each method mostly the same loci?\n",
    "<br>[4] Do the DAPCs tell the same story?"
   ]
  },
  {
   "cell_type": "markdown",
   "metadata": {},
   "source": [
    "### **[1]** Number of loci\n",
    "\n",
    "Before filtering for just one SNP per locus and minor allele frequency of 0.05, this is how they compare.\n",
    "\n",
    "- de novo -> 609 loci\n",
    "- reference -> 613 loci\n",
    "- ref + de novo -> 613\n",
    "\n",
    "After filtering for just one SNP per locus and minor allele frequency of 0.05, this is how they compare.\n",
    "\n",
    "- de novo ->\n",
    "- reference -> 523\n",
    "- ref + de novo -> 523\n"
   ]
  },
  {
   "cell_type": "code",
   "execution_count": null,
   "metadata": {},
   "outputs": [],
   "source": []
  }
 ],
 "metadata": {
  "kernelspec": {
   "display_name": "Python 3",
   "language": "python",
   "name": "python3"
  },
  "language_info": {
   "codemirror_mode": {
    "name": "ipython",
    "version": 3
   },
   "file_extension": ".py",
   "mimetype": "text/x-python",
   "name": "python",
   "nbconvert_exporter": "python",
   "pygments_lexer": "ipython3",
   "version": "3.6.4"
  }
 },
 "nbformat": 4,
 "nbformat_minor": 2
}
