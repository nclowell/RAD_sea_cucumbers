{
 "cells": [
  {
   "cell_type": "markdown",
   "metadata": {},
   "source": [
    "# De novo, ref, and ref + de novo\n",
    "\n",
    "**20180618**\n",
    "\n",
    "Another RADseq paper on *Parastichopus californicus* came out this year and they aligned to a closely related genome, *Parastichopus parvimensis*. I wanted to compare my de novo assembly with an assembly using that genome as a reference. Additionally, ipyrad has a reference + de novo option. So, I made three ipyrad assemblies that only differ in whether they are assembled de novo, with a reference, or both. I'd like to know,\n",
    "\n",
    "<br>[1] Which produces the most loci? \n",
    "<br>*Answer: 3 methods produce almost the same number of loci*\n",
    "<br>\n",
    "<br>[2] Are the loci produced in each method mostly the same loci? \n",
    "<br>*Answer: Yes. About 98% of loci map uniquely across methods.*\n",
    "<br>\n",
    "<br>[3] How does assembly method affect % loci lost at HWE filtering? \n",
    "<br>*Answer: It doesn't. HWE methods differ in how many loci they boot out, but number of loci booted out is not affected by assembly method.*\n",
    "![line](https://cdn-images-1.medium.com/max/1600/1*IH10jlQEJ7GW1_oq8s7WPw.png)\n"
   ]
  },
  {
   "cell_type": "markdown",
   "metadata": {},
   "source": [
    "### **[1]** Number of loci\n",
    "\n",
    "**Takeaway: number of loci almost the same across 3 methods**\n",
    "\n",
    "Before filtering for just one SNP per locus and minor allele frequency of 0.05, this is how they compare.\n",
    "\n",
    "- de novo -> 609 loci\n",
    "- reference -> 613 loci\n",
    "- ref + de novo -> 613\n",
    "\n",
    "After filtering for just one SNP per locus and minor allele frequency of 0.05, this is how they compare.\n",
    "\n",
    "- de novo -> 520\n",
    "- reference -> 523\n",
    "- ref + de novo -> 523\n"
   ]
  },
  {
   "cell_type": "markdown",
   "metadata": {},
   "source": [
    "### **[2]** Comparing loci with bowtie2\n",
    "\n",
    "**Takeaway: loci from 3 methods were ~98% identical**\n",
    "\n",
    "All assembly methods produced almost the same loci. When aligning the fasta from reference and reference + de novo assemblies to the de novo assembly, 97.55% of loci mapped only once, and the remaining 15 loci did not map at all. When aligning the fasta from the de novo assembly to the reference and reference + de novo assembles, 98.19% of loci mapped only once, and the remaining 11 loci did not map at all. No loci mapped to more than one location."
   ]
  },
  {
   "cell_type": "markdown",
   "metadata": {},
   "source": [
    "### **[3]** HWE Filtering\n",
    "\n",
    "**Takeaway:** Assembly method does not affect the number of loci lost due to HWE filtering\n",
    "\n",
    "At the core of all three HWE filtering methods is first running the exact pairwise HW test in Genepop. Then...\n",
    "\n",
    "(1) Jon Purtiz's method is booting out loci that are out of HWE (with alpha of less than 0.01) in more than half of the populations. This method is expected to boot out few loci. Jon's reasoning was that we expect a lot of loci to be out of HWE, and that we're not actually trying to remove those loci. Instead we're trying to remove poorly assembled loci (loci that incorrectly combined repeat units, or paralogous loci, etc.), which should be very few. \n",
    "\n",
    "(2) Mary's method is using Fisher's combination of probabilities from indepenedent tests of significance, which is essentially a multiple corrections test. Then, Mary removes loci if they are out of HWE in at least 2 populations.\n",
    "\n",
    "(3) Charlie uses a multiple corrections test that generates a false discovery rate to calculate qvalues of significance per locus in each population. I removed loci if their qvalue was <0.05 in at least half of the populations. \n",
    "\n",
    "I ran all three HWE filtering techniques on the output of all three assembly methods. Mary's method removes most of my loci. Jon and Charlie's methods remove almost none of my loci. The percent of loci removed did not vary significantly across assembly method types.\n",
    "\n",
    "![HWE_table](https://github.com/nclowell/SeaCukes/blob/master/Imgs_for_Notebooks/HWE_assembly_method_table_20180620.png?raw=true)\n",
    "\n",
    "#### DAPCs\n",
    "\n",
    "Assembly method: de novo\n",
    "\n",
    "![DAPC](https://github.com/nclowell/SeaCukes/blob/master/Imgs_for_Notebooks/PC_allR_1M_20K_002_biall_maf_oneSNP_inames_wpops_fHWE_noCA_DAPC.png?raw=true)\n",
    "<br>![DAPC](https://github.com/nclowell/SeaCukes/blob/master/Imgs_for_Notebooks/PC_allR_1M_20K_002_biall_maf_oneSNP_inames_wpops_noCA_DAPC.png?raw=true)\n",
    "<br>![DAPC](https://github.com/nclowell/SeaCukes/blob/master/Imgs_for_Notebooks/PC_allR_1M_20K_002_biall_maf_oneSNP_inames_wpops_post_HWEchisquare_fgp_noCA_DAPC.png?raw=true)\n",
    "\n",
    "Assembly method: reference \n",
    "\n",
    "![DAPC]()\n",
    "<br>![DAPC]()\n",
    "<br>![DAPC]()\n"
   ]
  },
  {
   "cell_type": "code",
   "execution_count": null,
   "metadata": {},
   "outputs": [],
   "source": []
  }
 ],
 "metadata": {
  "kernelspec": {
   "display_name": "Python 3",
   "language": "python",
   "name": "python3"
  },
  "language_info": {
   "codemirror_mode": {
    "name": "ipython",
    "version": 3
   },
   "file_extension": ".py",
   "mimetype": "text/x-python",
   "name": "python",
   "nbconvert_exporter": "python",
   "pygments_lexer": "ipython3",
   "version": "3.6.4"
  }
 },
 "nbformat": 4,
 "nbformat_minor": 2
}
