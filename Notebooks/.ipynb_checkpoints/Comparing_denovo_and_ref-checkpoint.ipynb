{
 "cells": [
  {
   "cell_type": "markdown",
   "metadata": {},
   "source": [
    "# De novo, ref, and ref + de novo\n",
    "\n",
    "**20180618**\n",
    "\n",
    "Another RADseq paper on *Parastichopus californicus* came out this year and they aligned to a closely related genome, *Parastichopus parvimensis*. I wanted to compare my de novo assembly with an assembly using that genome as a reference. Additionally, ipyrad has a reference + de novo option. So,I made three ipyrad assemblies that only differ in whether they're assembled de novo, with a reference, or both. I'd like to know,\n",
    "\n",
    "<br>[1] Which produces the most loci?\n",
    "<br>[2] How does assembly method affect % loci lost at HWE filtering?\n",
    "<br>[3] Are the loci produced in each method mostly the same loci?\n",
    "<br>[4] Do the DAPCs tell the same story?"
   ]
  },
  {
   "cell_type": "markdown",
   "metadata": {},
   "source": [
    "### **[1]** Number of loci\n",
    "\n",
    "**Takeaway: almost no difference**\n",
    "\n",
    "Before filtering for just one SNP per locus and minor allele frequency of 0.05, this is how they compare.\n",
    "\n",
    "- de novo -> 609 loci\n",
    "- reference -> 613 loci\n",
    "- ref + de novo -> 613\n",
    "\n",
    "After filtering for just one SNP per locus and minor allele frequency of 0.05, this is how they compare.\n",
    "\n",
    "- de novo -> 520\n",
    "- reference -> 523\n",
    "- ref + de novo -> 523\n"
   ]
  },
  {
   "cell_type": "markdown",
   "metadata": {},
   "source": [
    "### **[2]** HWE Filtering\n",
    "\n",
    "**Takeaway:**\n",
    "\n",
    "At the core of all three HWE filtering methods is first running the exact pairwise HW test in Genepop. Then...\n",
    "\n",
    "(1) Jon Purtiz's method is booting out loci that are out of HWE (with alpha of less than 0.01) in more than half of the populations. This method is very liberal and usually boots out few loci compared to other methods.\n",
    "\n",
    "(2) Mary's method \n",
    "\n",
    "Charlie uses a multiple corrections test.\n",
    "\n"
   ]
  },
  {
   "cell_type": "markdown",
   "metadata": {},
   "source": [
    "### **[3]** Comparing loci with bowtie2\n",
    "\n",
    "**Takeaway: loci from 3 methods were ~98% identical**\n",
    "\n",
    "All assembly methods produced almost the same loci. When aligning the fasta from reference and reference + de novo assemblies to the de novo assembly, 97.55% of loci mapped only once, and the remaining 15 loci did not map at all. When aligning the fasta from the de novo assembly to the reference and reference + de novo assembles, 98.19% of loci mapped only once, and the remaining 11 loci did not map at all. No loci mapped to more than one location."
   ]
  },
  {
   "cell_type": "markdown",
   "metadata": {},
   "source": [
    "### **[4]** DAPCs\n",
    "\n",
    "**Takeaway:**\n",
    "\n",
    "After running the ipyrad assemblies to completion, I filtered for one SNP per RAD tag and minor allele frequency of 0.05 and did not filter for HWE to produce the following DAPCs.\n",
    "\n",
    "![DAPC_denovo]()\n",
    "\n",
    "![DAPC_ref]()\n",
    "\n",
    "![DAPC_refdenovo]()\n"
   ]
  }
 ],
 "metadata": {
  "kernelspec": {
   "display_name": "Python 3",
   "language": "python",
   "name": "python3"
  },
  "language_info": {
   "codemirror_mode": {
    "name": "ipython",
    "version": 3
   },
   "file_extension": ".py",
   "mimetype": "text/x-python",
   "name": "python",
   "nbconvert_exporter": "python",
   "pygments_lexer": "ipython3",
   "version": "3.6.4"
  }
 },
 "nbformat": 4,
 "nbformat_minor": 2
}
