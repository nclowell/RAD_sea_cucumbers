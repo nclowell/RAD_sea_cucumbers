{
 "cells": [
  {
   "cell_type": "markdown",
   "metadata": {
    "deletable": true,
    "editable": true
   },
   "source": [
    "## Download & Quality Check on PARCAL 1"
   ]
  },
  {
   "cell_type": "markdown",
   "metadata": {
    "deletable": true,
    "editable": true
   },
   "source": [
    "#### md5 check sum\n",
    "\n",
    "Used md5 sum to check files from BGI:\n",
    "\n",
    "```\n",
    "$ md5sum PARCAL_RUN1_1.fq.gz\n",
    "a603b112071f3210703463f8cb0d32ef *PARCAL_RUN1_1.fq.gz\n",
    "\n",
    "$mmd5sum PARCAL_RUN1_2.fq.gz\n",
    "a03f615ce32ed3a16486e56113583375 *PARCAL_RUN1_2.fq.gz\n",
    "```\n",
    "\n",
    "\n",
    "\n",
    "And the metadata provided by BGI provided these md5 sums... \n",
    "\n",
    "```\n",
    "a603b112071f3210703463f8cb0d32ef  Raw/PARCAL_RUN1_1.fq.gz\n",
    "a03f615ce32ed3a16486e56113583375  Raw/PARCAL_RUN1_2.fq.gz\n",
    "```\n",
    "\n",
    "So they match!"
   ]
  },
  {
   "cell_type": "markdown",
   "metadata": {
    "deletable": true,
    "editable": true
   },
   "source": [
    "#### file sizes\n",
    "\n",
    "parcal_run1_1.fq = 29.4 GB\n",
    "\n",
    "parcal_run1_2.fq = 32.2 GB"
   ]
  },
  {
   "cell_type": "markdown",
   "metadata": {
    "deletable": true,
    "editable": true
   },
   "source": [
    "#### fastqc"
   ]
  },
  {
   "cell_type": "code",
   "execution_count": null,
   "metadata": {
    "collapsed": true,
    "deletable": true,
    "editable": true
   },
   "outputs": [],
   "source": []
  }
 ],
 "metadata": {
  "kernelspec": {
   "display_name": "Python 2",
   "language": "python",
   "name": "python2"
  },
  "language_info": {
   "codemirror_mode": {
    "name": "ipython",
    "version": 2
   },
   "file_extension": ".py",
   "mimetype": "text/x-python",
   "name": "python",
   "nbconvert_exporter": "python",
   "pygments_lexer": "ipython2",
   "version": "2.7.13"
  }
 },
 "nbformat": 4,
 "nbformat_minor": 2
}
