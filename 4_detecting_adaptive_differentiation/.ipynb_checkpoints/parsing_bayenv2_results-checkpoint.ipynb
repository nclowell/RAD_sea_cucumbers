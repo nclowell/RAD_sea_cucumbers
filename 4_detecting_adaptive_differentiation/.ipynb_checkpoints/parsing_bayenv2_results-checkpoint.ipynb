{
 "cells": [
  {
   "cell_type": "markdown",
   "metadata": {},
   "source": [
    "## Parsing bayenv2 Results\n",
    "\n",
    "**2020303** NL\n",
    "\n",
    "Ran bayenv2 with \n",
    "\n",
    "```\n",
    "$ ./calc_bf.sh parcal_mox001_qc_noEldInlet_forBayEnv.txt PC_environfile_noEld_forBE2_likeX.txt PC_noEld_last_matrix.txt 8 100000 29 > be2_log_pc_likeX_try2.txt\n",
    "```\n"
   ]
  },
  {
   "cell_type": "markdown",
   "metadata": {},
   "source": [
    "When converting the Genepop file to the Bayenv format, PGD Spider booted out the following loci and called them monomorphic (I manually checked and they look polymorphic...). \n",
    "\n",
    "- WARN  10:33:44 - Locus KN883180_93322 was removed, as it is not polymorphic\n",
    "- WARN  10:33:44 - Locus KN883279_194065 was removed, as it is not polymorphic\n",
    "- WARN  10:33:44 - Locus KN883764_9981 was removed, as it is not polymorphic\n",
    "- WARN  10:33:44 - Locus KN886325_24939 was removed, as it is not polymorphic\n",
    "- WARN  10:33:44 - Locus KN886891_15767 was removed, as it is not polymorphic\n",
    "- WARN  10:33:44 - Locus KN888648_23821 was removed, as it is not polymorphic\n",
    "- WARN  10:33:44 - Locus KN889819_58758 was removed, as it is not polymorphic\n",
    "- WARN  10:33:44 - Locus KN891058_13136 was removed, as it is not polymorphic\n",
    "\n",
    "BayEnv gives your SNPs hella dumb names instead of the index or the original name, so I need to do some matching back to figure out which SNPs are those with which Bayes Factors.\n",
    "\n",
    "In this Notebook, I'm making a dataframe with meaningful column names (env vars), meaningful SNP names (original locus names), and then looking at which SNPs have a lot of evidence for correlation with environmental variables."
   ]
  },
  {
   "cell_type": "code",
   "execution_count": 23,
   "metadata": {},
   "outputs": [],
   "source": [
    "import numpy as np\n",
    "import matplotlib.pyplot as plt\n",
    "import pandas as pd"
   ]
  },
  {
   "cell_type": "markdown",
   "metadata": {},
   "source": [
    "#### **[1]** Get the names of 2075 PARCAL SNPs, in order"
   ]
  },
  {
   "cell_type": "code",
   "execution_count": 24,
   "metadata": {},
   "outputs": [],
   "source": [
    "gpfile = open(\"/mnt/hgfs/E/dDocent_for_mox/parcal_wd/parcal_mox001/parcal_mox001_qc/parcal_mox001_qc.gen\",\"r\")\n",
    "foundpop = False\n",
    "gp_loci = []\n",
    "for line in gpfile:\n",
    "    if line.startswith(\"#\") == False:\n",
    "        if line.strip() not in [\"Pop\",\"pop\"]:\n",
    "            if foundpop == False:\n",
    "                gp_loci.append(line.strip())\n",
    "        else:\n",
    "            foundpop = True"
   ]
  },
  {
   "cell_type": "code",
   "execution_count": 25,
   "metadata": {},
   "outputs": [
    {
     "data": {
      "text/plain": [
       "2075"
      ]
     },
     "execution_count": 25,
     "metadata": {},
     "output_type": "execute_result"
    }
   ],
   "source": [
    "len(gp_loci)"
   ]
  },
  {
   "cell_type": "code",
   "execution_count": 26,
   "metadata": {},
   "outputs": [
    {
     "data": {
      "text/plain": [
       "'JXUT01106070_4760'"
      ]
     },
     "execution_count": 26,
     "metadata": {},
     "output_type": "execute_result"
    }
   ],
   "source": [
    "gp_loci[0]"
   ]
  },
  {
   "cell_type": "markdown",
   "metadata": {},
   "source": [
    "#### **[2]** Get the names of loci retained in BayEnv analysis"
   ]
  },
  {
   "cell_type": "code",
   "execution_count": 27,
   "metadata": {},
   "outputs": [
    {
     "name": "stdout",
     "output_type": "stream",
     "text": [
      "2067\n"
     ]
    }
   ],
   "source": [
    "be_loci = list(gp_loci)\n",
    "loci_to_remove = ['KN883180_93322','KN883279_194065','KN883764_9981','KN886325_24939',\n",
    "                  'KN886891_15767','KN888648_23821','KN889819_58758','KN891058_13136']\n",
    "for locus in loci_to_remove:\n",
    "    be_loci.remove(locus)\n",
    "print(len(be_loci))"
   ]
  },
  {
   "cell_type": "code",
   "execution_count": 28,
   "metadata": {},
   "outputs": [
    {
     "data": {
      "text/plain": [
       "['JXUT01106070_4760',\n",
       " 'JXUT01121266_26861',\n",
       " 'JXUT01124726_31595',\n",
       " 'JXUT01126181_4136',\n",
       " 'JXUT01134574_5560']"
      ]
     },
     "execution_count": 28,
     "metadata": {},
     "output_type": "execute_result"
    }
   ],
   "source": [
    "gp_loci[0:5]"
   ]
  },
  {
   "cell_type": "code",
   "execution_count": 29,
   "metadata": {},
   "outputs": [
    {
     "data": {
      "text/plain": [
       "['JXUT01106070_4760',\n",
       " 'JXUT01121266_26861',\n",
       " 'JXUT01124726_31595',\n",
       " 'JXUT01126181_4136',\n",
       " 'JXUT01134574_5560']"
      ]
     },
     "execution_count": 29,
     "metadata": {},
     "output_type": "execute_result"
    }
   ],
   "source": [
    "be_loci[0:5]"
   ]
  },
  {
   "cell_type": "code",
   "execution_count": 30,
   "metadata": {},
   "outputs": [
    {
     "data": {
      "text/plain": [
       "['KN897709_1466',\n",
       " 'KN897718_1121',\n",
       " 'KN897962_5524',\n",
       " 'KN898056_6022',\n",
       " 'KN898084_5875']"
      ]
     },
     "execution_count": 30,
     "metadata": {},
     "output_type": "execute_result"
    }
   ],
   "source": [
    "be_loci[-5:]"
   ]
  },
  {
   "cell_type": "markdown",
   "metadata": {},
   "source": [
    "#### **[3]** Read in data frame and name it better"
   ]
  },
  {
   "cell_type": "code",
   "execution_count": 31,
   "metadata": {},
   "outputs": [],
   "source": [
    "bayenv_results_path = \"bf_environ.PC_environfile_noEld_forBE2_likeX.txt\""
   ]
  },
  {
   "cell_type": "code",
   "execution_count": 32,
   "metadata": {},
   "outputs": [],
   "source": [
    "col_names = [\"LocusName\",\n",
    "              \"BO2_salinitymean_ss\", # mean salinity at surface\n",
    "              \"BO2_ppmean_ss\", # mean primary production at surface\n",
    "              \"BO2_nitratemean_ss\", # mean nitrate at surface\n",
    "              \"BO2_phosphatemean_ss\", # mean nitrate at surface\n",
    "              \"BO2_dissoxmean_ss\", # mean dissox at surface\n",
    "              \"BO2_salinitymean_bdmean\", # mean salinity at mean bottom\n",
    "              \"BO2_ppmean_bdmean\", # primary production at mean bottom\n",
    "              \"BO2_nitratemean_bdmean\", # mean nitrate at mean depth\n",
    "              \"BO2_phosphatemean_bdmean\", # mean phosphate at mean depth\n",
    "              \"BO2_dissoxmean_bdmean\", # mean dissox at max depth\n",
    "              \"BO_bathymean\", # bathymetry\n",
    "              \"BO_ph\", # surface pH \n",
    "              \"BO_calcite\", # mean calcite\n",
    "              \"BO2_curvelmax_ss\", # surface max current velocity\n",
    "              \"BO2_curvelmin_ss\", # surface min current velocity\n",
    "              \"BO2_curvelmean_ss\", # surface mean current velocity\n",
    "              \"BO2_curvelrange_ss\", # surface range current velocity\n",
    "              \"BO2_curvelmax_bdmean\", # mean bottom max current velocity\n",
    "              \"BO2_curvelmin_bdmean\", # mean bottom min current velocity\n",
    "              \"BO2_curvelrange_bdmean\", # mean bottom range current velocity\n",
    "              \"BO2_curvelmean_bdmean\", # mean bottom mean current velocity\n",
    "              \"BO2_tempmax_ss\", # max SST\n",
    "              \"BO2_tempmean_ss\", # mean SST\n",
    "              \"BO2_tempmin_ss\", # min SST\n",
    "              \"BO2_temprange_ss\", # range SST\n",
    "              \"BO2_tempmax_bdmean\", # maximum temp at mean bottom\n",
    "              \"BO2_tempmean_bdmean\", # mean temp at mean bottom\n",
    "              \"BO2_tempmin_bdmean\", # min temp at mean bottom\n",
    "              \"BO2_temprange_bdmean\"] # range temp at mean bottom"
   ]
  },
  {
   "cell_type": "code",
   "execution_count": 38,
   "metadata": {},
   "outputs": [],
   "source": [
    "bayenv_df = pd.read_csv(bayenv_results_path, \n",
    "                        delimiter = '\\t',\n",
    "                        names = col_names,\n",
    "                        usecols=range(30))\n",
    "bayenv_df['LocusName'] = be_loci"
   ]
  },
  {
   "cell_type": "code",
   "execution_count": 39,
   "metadata": {},
   "outputs": [
    {
     "data": {
      "text/html": [
       "<div>\n",
       "<style scoped>\n",
       "    .dataframe tbody tr th:only-of-type {\n",
       "        vertical-align: middle;\n",
       "    }\n",
       "\n",
       "    .dataframe tbody tr th {\n",
       "        vertical-align: top;\n",
       "    }\n",
       "\n",
       "    .dataframe thead th {\n",
       "        text-align: right;\n",
       "    }\n",
       "</style>\n",
       "<table border=\"1\" class=\"dataframe\">\n",
       "  <thead>\n",
       "    <tr style=\"text-align: right;\">\n",
       "      <th></th>\n",
       "      <th>LocusName</th>\n",
       "      <th>BO2_salinitymean_ss</th>\n",
       "      <th>BO2_ppmean_ss</th>\n",
       "      <th>BO2_nitratemean_ss</th>\n",
       "      <th>BO2_phosphatemean_ss</th>\n",
       "      <th>BO2_dissoxmean_ss</th>\n",
       "      <th>BO2_salinitymean_bdmean</th>\n",
       "      <th>BO2_ppmean_bdmean</th>\n",
       "      <th>BO2_nitratemean_bdmean</th>\n",
       "      <th>BO2_phosphatemean_bdmean</th>\n",
       "      <th>...</th>\n",
       "      <th>BO2_curvelrange_bdmean</th>\n",
       "      <th>BO2_curvelmean_bdmean</th>\n",
       "      <th>BO2_tempmax_ss</th>\n",
       "      <th>BO2_tempmean_ss</th>\n",
       "      <th>BO2_tempmin_ss</th>\n",
       "      <th>BO2_temprange_ss</th>\n",
       "      <th>BO2_tempmax_bdmean</th>\n",
       "      <th>BO2_tempmean_bdmean</th>\n",
       "      <th>BO2_tempmin_bdmean</th>\n",
       "      <th>BO2_temprange_bdmean</th>\n",
       "    </tr>\n",
       "  </thead>\n",
       "  <tbody>\n",
       "    <tr>\n",
       "      <th>0</th>\n",
       "      <td>JXUT01106070_4760</td>\n",
       "      <td>0.17908</td>\n",
       "      <td>0.16851</td>\n",
       "      <td>0.14969</td>\n",
       "      <td>0.17002</td>\n",
       "      <td>0.53951</td>\n",
       "      <td>0.16259</td>\n",
       "      <td>0.14584</td>\n",
       "      <td>0.15669</td>\n",
       "      <td>0.18465</td>\n",
       "      <td>...</td>\n",
       "      <td>0.16536</td>\n",
       "      <td>0.20764</td>\n",
       "      <td>0.14949</td>\n",
       "      <td>0.49566</td>\n",
       "      <td>0.62982</td>\n",
       "      <td>0.57712</td>\n",
       "      <td>0.13527</td>\n",
       "      <td>0.32748</td>\n",
       "      <td>0.71546</td>\n",
       "      <td>0.30758</td>\n",
       "    </tr>\n",
       "    <tr>\n",
       "      <th>1</th>\n",
       "      <td>JXUT01121266_26861</td>\n",
       "      <td>0.16633</td>\n",
       "      <td>0.15110</td>\n",
       "      <td>0.19424</td>\n",
       "      <td>0.23665</td>\n",
       "      <td>0.18390</td>\n",
       "      <td>0.23980</td>\n",
       "      <td>0.20146</td>\n",
       "      <td>0.25370</td>\n",
       "      <td>0.31432</td>\n",
       "      <td>...</td>\n",
       "      <td>0.16486</td>\n",
       "      <td>0.28245</td>\n",
       "      <td>0.23118</td>\n",
       "      <td>0.20218</td>\n",
       "      <td>0.20669</td>\n",
       "      <td>0.27794</td>\n",
       "      <td>0.20470</td>\n",
       "      <td>0.22166</td>\n",
       "      <td>0.19740</td>\n",
       "      <td>0.26183</td>\n",
       "    </tr>\n",
       "    <tr>\n",
       "      <th>2</th>\n",
       "      <td>JXUT01124726_31595</td>\n",
       "      <td>0.18042</td>\n",
       "      <td>0.17364</td>\n",
       "      <td>0.16884</td>\n",
       "      <td>0.16523</td>\n",
       "      <td>0.16177</td>\n",
       "      <td>0.15685</td>\n",
       "      <td>0.14462</td>\n",
       "      <td>0.16174</td>\n",
       "      <td>0.17142</td>\n",
       "      <td>...</td>\n",
       "      <td>0.14981</td>\n",
       "      <td>0.28754</td>\n",
       "      <td>0.17407</td>\n",
       "      <td>0.15561</td>\n",
       "      <td>0.16510</td>\n",
       "      <td>0.20504</td>\n",
       "      <td>0.15450</td>\n",
       "      <td>0.14452</td>\n",
       "      <td>0.17895</td>\n",
       "      <td>0.17515</td>\n",
       "    </tr>\n",
       "    <tr>\n",
       "      <th>3</th>\n",
       "      <td>JXUT01126181_4136</td>\n",
       "      <td>0.70405</td>\n",
       "      <td>0.36597</td>\n",
       "      <td>0.79894</td>\n",
       "      <td>1.46400</td>\n",
       "      <td>0.25361</td>\n",
       "      <td>0.29789</td>\n",
       "      <td>0.29859</td>\n",
       "      <td>0.33259</td>\n",
       "      <td>0.43112</td>\n",
       "      <td>...</td>\n",
       "      <td>0.22518</td>\n",
       "      <td>0.67514</td>\n",
       "      <td>0.50395</td>\n",
       "      <td>0.22251</td>\n",
       "      <td>0.25405</td>\n",
       "      <td>0.42731</td>\n",
       "      <td>0.23644</td>\n",
       "      <td>0.24168</td>\n",
       "      <td>0.25057</td>\n",
       "      <td>0.24774</td>\n",
       "    </tr>\n",
       "    <tr>\n",
       "      <th>4</th>\n",
       "      <td>JXUT01134574_5560</td>\n",
       "      <td>0.14846</td>\n",
       "      <td>0.52333</td>\n",
       "      <td>0.22402</td>\n",
       "      <td>0.15857</td>\n",
       "      <td>0.15928</td>\n",
       "      <td>0.16719</td>\n",
       "      <td>0.17348</td>\n",
       "      <td>0.15486</td>\n",
       "      <td>0.16308</td>\n",
       "      <td>...</td>\n",
       "      <td>0.18427</td>\n",
       "      <td>0.26444</td>\n",
       "      <td>0.18844</td>\n",
       "      <td>0.22112</td>\n",
       "      <td>0.20708</td>\n",
       "      <td>0.23850</td>\n",
       "      <td>0.19587</td>\n",
       "      <td>0.23682</td>\n",
       "      <td>0.18841</td>\n",
       "      <td>0.15615</td>\n",
       "    </tr>\n",
       "    <tr>\n",
       "      <th>...</th>\n",
       "      <td>...</td>\n",
       "      <td>...</td>\n",
       "      <td>...</td>\n",
       "      <td>...</td>\n",
       "      <td>...</td>\n",
       "      <td>...</td>\n",
       "      <td>...</td>\n",
       "      <td>...</td>\n",
       "      <td>...</td>\n",
       "      <td>...</td>\n",
       "      <td>...</td>\n",
       "      <td>...</td>\n",
       "      <td>...</td>\n",
       "      <td>...</td>\n",
       "      <td>...</td>\n",
       "      <td>...</td>\n",
       "      <td>...</td>\n",
       "      <td>...</td>\n",
       "      <td>...</td>\n",
       "      <td>...</td>\n",
       "      <td>...</td>\n",
       "    </tr>\n",
       "    <tr>\n",
       "      <th>2062</th>\n",
       "      <td>KN897709_1466</td>\n",
       "      <td>0.33154</td>\n",
       "      <td>0.34357</td>\n",
       "      <td>0.31332</td>\n",
       "      <td>0.38641</td>\n",
       "      <td>0.25870</td>\n",
       "      <td>0.32196</td>\n",
       "      <td>0.32739</td>\n",
       "      <td>0.29614</td>\n",
       "      <td>0.28768</td>\n",
       "      <td>...</td>\n",
       "      <td>0.35552</td>\n",
       "      <td>0.48580</td>\n",
       "      <td>0.35513</td>\n",
       "      <td>0.27556</td>\n",
       "      <td>0.27392</td>\n",
       "      <td>0.32069</td>\n",
       "      <td>0.31454</td>\n",
       "      <td>0.29285</td>\n",
       "      <td>0.27964</td>\n",
       "      <td>0.31520</td>\n",
       "    </tr>\n",
       "    <tr>\n",
       "      <th>2063</th>\n",
       "      <td>KN897718_1121</td>\n",
       "      <td>0.24156</td>\n",
       "      <td>0.15951</td>\n",
       "      <td>0.16322</td>\n",
       "      <td>0.40002</td>\n",
       "      <td>0.14986</td>\n",
       "      <td>0.15298</td>\n",
       "      <td>0.14632</td>\n",
       "      <td>0.16173</td>\n",
       "      <td>0.26397</td>\n",
       "      <td>...</td>\n",
       "      <td>0.41226</td>\n",
       "      <td>0.15813</td>\n",
       "      <td>0.16541</td>\n",
       "      <td>0.16352</td>\n",
       "      <td>0.17668</td>\n",
       "      <td>0.34819</td>\n",
       "      <td>0.16526</td>\n",
       "      <td>0.15612</td>\n",
       "      <td>0.17117</td>\n",
       "      <td>0.23626</td>\n",
       "    </tr>\n",
       "    <tr>\n",
       "      <th>2064</th>\n",
       "      <td>KN897962_5524</td>\n",
       "      <td>0.20372</td>\n",
       "      <td>3.66530</td>\n",
       "      <td>0.15233</td>\n",
       "      <td>0.31789</td>\n",
       "      <td>0.15033</td>\n",
       "      <td>0.12587</td>\n",
       "      <td>0.15299</td>\n",
       "      <td>0.12020</td>\n",
       "      <td>0.13233</td>\n",
       "      <td>...</td>\n",
       "      <td>0.13919</td>\n",
       "      <td>0.56325</td>\n",
       "      <td>0.29660</td>\n",
       "      <td>0.26165</td>\n",
       "      <td>0.27521</td>\n",
       "      <td>0.72811</td>\n",
       "      <td>0.14577</td>\n",
       "      <td>0.22680</td>\n",
       "      <td>0.23110</td>\n",
       "      <td>0.15588</td>\n",
       "    </tr>\n",
       "    <tr>\n",
       "      <th>2065</th>\n",
       "      <td>KN898056_6022</td>\n",
       "      <td>0.78922</td>\n",
       "      <td>0.34455</td>\n",
       "      <td>1.60710</td>\n",
       "      <td>0.60746</td>\n",
       "      <td>0.31751</td>\n",
       "      <td>0.24964</td>\n",
       "      <td>0.38657</td>\n",
       "      <td>0.24690</td>\n",
       "      <td>0.27015</td>\n",
       "      <td>...</td>\n",
       "      <td>0.64865</td>\n",
       "      <td>0.30299</td>\n",
       "      <td>0.29474</td>\n",
       "      <td>0.66837</td>\n",
       "      <td>0.80554</td>\n",
       "      <td>0.55437</td>\n",
       "      <td>0.76635</td>\n",
       "      <td>0.79335</td>\n",
       "      <td>0.82622</td>\n",
       "      <td>0.35790</td>\n",
       "    </tr>\n",
       "    <tr>\n",
       "      <th>2066</th>\n",
       "      <td>KN898084_5875</td>\n",
       "      <td>1.33890</td>\n",
       "      <td>0.18452</td>\n",
       "      <td>0.38750</td>\n",
       "      <td>0.14384</td>\n",
       "      <td>0.34518</td>\n",
       "      <td>0.50139</td>\n",
       "      <td>1.72710</td>\n",
       "      <td>0.33621</td>\n",
       "      <td>0.18555</td>\n",
       "      <td>...</td>\n",
       "      <td>0.12395</td>\n",
       "      <td>0.15249</td>\n",
       "      <td>0.14396</td>\n",
       "      <td>0.14030</td>\n",
       "      <td>0.13590</td>\n",
       "      <td>0.12649</td>\n",
       "      <td>0.55440</td>\n",
       "      <td>0.23643</td>\n",
       "      <td>0.13172</td>\n",
       "      <td>0.35907</td>\n",
       "    </tr>\n",
       "  </tbody>\n",
       "</table>\n",
       "<p>2067 rows × 30 columns</p>\n",
       "</div>"
      ],
      "text/plain": [
       "               LocusName  BO2_salinitymean_ss  BO2_ppmean_ss  \\\n",
       "0      JXUT01106070_4760              0.17908        0.16851   \n",
       "1     JXUT01121266_26861              0.16633        0.15110   \n",
       "2     JXUT01124726_31595              0.18042        0.17364   \n",
       "3      JXUT01126181_4136              0.70405        0.36597   \n",
       "4      JXUT01134574_5560              0.14846        0.52333   \n",
       "...                  ...                  ...            ...   \n",
       "2062       KN897709_1466              0.33154        0.34357   \n",
       "2063       KN897718_1121              0.24156        0.15951   \n",
       "2064       KN897962_5524              0.20372        3.66530   \n",
       "2065       KN898056_6022              0.78922        0.34455   \n",
       "2066       KN898084_5875              1.33890        0.18452   \n",
       "\n",
       "      BO2_nitratemean_ss  BO2_phosphatemean_ss  BO2_dissoxmean_ss  \\\n",
       "0                0.14969               0.17002            0.53951   \n",
       "1                0.19424               0.23665            0.18390   \n",
       "2                0.16884               0.16523            0.16177   \n",
       "3                0.79894               1.46400            0.25361   \n",
       "4                0.22402               0.15857            0.15928   \n",
       "...                  ...                   ...                ...   \n",
       "2062             0.31332               0.38641            0.25870   \n",
       "2063             0.16322               0.40002            0.14986   \n",
       "2064             0.15233               0.31789            0.15033   \n",
       "2065             1.60710               0.60746            0.31751   \n",
       "2066             0.38750               0.14384            0.34518   \n",
       "\n",
       "      BO2_salinitymean_bdmean  BO2_ppmean_bdmean  BO2_nitratemean_bdmean  \\\n",
       "0                     0.16259            0.14584                 0.15669   \n",
       "1                     0.23980            0.20146                 0.25370   \n",
       "2                     0.15685            0.14462                 0.16174   \n",
       "3                     0.29789            0.29859                 0.33259   \n",
       "4                     0.16719            0.17348                 0.15486   \n",
       "...                       ...                ...                     ...   \n",
       "2062                  0.32196            0.32739                 0.29614   \n",
       "2063                  0.15298            0.14632                 0.16173   \n",
       "2064                  0.12587            0.15299                 0.12020   \n",
       "2065                  0.24964            0.38657                 0.24690   \n",
       "2066                  0.50139            1.72710                 0.33621   \n",
       "\n",
       "      BO2_phosphatemean_bdmean  ...  BO2_curvelrange_bdmean  \\\n",
       "0                      0.18465  ...                 0.16536   \n",
       "1                      0.31432  ...                 0.16486   \n",
       "2                      0.17142  ...                 0.14981   \n",
       "3                      0.43112  ...                 0.22518   \n",
       "4                      0.16308  ...                 0.18427   \n",
       "...                        ...  ...                     ...   \n",
       "2062                   0.28768  ...                 0.35552   \n",
       "2063                   0.26397  ...                 0.41226   \n",
       "2064                   0.13233  ...                 0.13919   \n",
       "2065                   0.27015  ...                 0.64865   \n",
       "2066                   0.18555  ...                 0.12395   \n",
       "\n",
       "      BO2_curvelmean_bdmean  BO2_tempmax_ss  BO2_tempmean_ss  BO2_tempmin_ss  \\\n",
       "0                   0.20764         0.14949          0.49566         0.62982   \n",
       "1                   0.28245         0.23118          0.20218         0.20669   \n",
       "2                   0.28754         0.17407          0.15561         0.16510   \n",
       "3                   0.67514         0.50395          0.22251         0.25405   \n",
       "4                   0.26444         0.18844          0.22112         0.20708   \n",
       "...                     ...             ...              ...             ...   \n",
       "2062                0.48580         0.35513          0.27556         0.27392   \n",
       "2063                0.15813         0.16541          0.16352         0.17668   \n",
       "2064                0.56325         0.29660          0.26165         0.27521   \n",
       "2065                0.30299         0.29474          0.66837         0.80554   \n",
       "2066                0.15249         0.14396          0.14030         0.13590   \n",
       "\n",
       "      BO2_temprange_ss  BO2_tempmax_bdmean  BO2_tempmean_bdmean  \\\n",
       "0              0.57712             0.13527              0.32748   \n",
       "1              0.27794             0.20470              0.22166   \n",
       "2              0.20504             0.15450              0.14452   \n",
       "3              0.42731             0.23644              0.24168   \n",
       "4              0.23850             0.19587              0.23682   \n",
       "...                ...                 ...                  ...   \n",
       "2062           0.32069             0.31454              0.29285   \n",
       "2063           0.34819             0.16526              0.15612   \n",
       "2064           0.72811             0.14577              0.22680   \n",
       "2065           0.55437             0.76635              0.79335   \n",
       "2066           0.12649             0.55440              0.23643   \n",
       "\n",
       "      BO2_tempmin_bdmean  BO2_temprange_bdmean  \n",
       "0                0.71546               0.30758  \n",
       "1                0.19740               0.26183  \n",
       "2                0.17895               0.17515  \n",
       "3                0.25057               0.24774  \n",
       "4                0.18841               0.15615  \n",
       "...                  ...                   ...  \n",
       "2062             0.27964               0.31520  \n",
       "2063             0.17117               0.23626  \n",
       "2064             0.23110               0.15588  \n",
       "2065             0.82622               0.35790  \n",
       "2066             0.13172               0.35907  \n",
       "\n",
       "[2067 rows x 30 columns]"
      ]
     },
     "execution_count": 39,
     "metadata": {},
     "output_type": "execute_result"
    }
   ],
   "source": [
    "bayenv_df"
   ]
  },
  {
   "cell_type": "code",
   "execution_count": 40,
   "metadata": {},
   "outputs": [],
   "source": [
    "pd.DataFrame.to_csv(bayenv_df, \n",
    "                     path_or_buf=\"PC_BE2_noEI_likkeX_results.txt\", \n",
    "                     sep=' ')"
   ]
  },
  {
   "cell_type": "markdown",
   "metadata": {},
   "source": [
    "#### **[4]** Make results dataframe\n",
    "\n",
    "Make new dataframe of significant results\n",
    "\n",
    "For each significant result (BF > 3.2):\n",
    "\n",
    "SNP Name, Env Var, BF, QualSupport"
   ]
  },
  {
   "cell_type": "code",
   "execution_count": 41,
   "metadata": {},
   "outputs": [],
   "source": [
    "def get_support(x):\n",
    "    if x >= 3.2 and x < 10:\n",
    "        return(\"Substantial\")\n",
    "    elif x >= 10 and x < 100:\n",
    "        return(\"Strong\")\n",
    "    elif x > 100:\n",
    "        return(\"Decisive\")\n",
    "    else:\n",
    "        print(\"Something went wrong in determining qualititative support\")"
   ]
  },
  {
   "cell_type": "code",
   "execution_count": 42,
   "metadata": {},
   "outputs": [
    {
     "data": {
      "text/plain": [
       "'Substantial'"
      ]
     },
     "execution_count": 42,
     "metadata": {},
     "output_type": "execute_result"
    }
   ],
   "source": [
    "get_support(5)"
   ]
  },
  {
   "cell_type": "code",
   "execution_count": 43,
   "metadata": {},
   "outputs": [
    {
     "name": "stdout",
     "output_type": "stream",
     "text": [
      "Something went wrong in determining qualititative support\n"
     ]
    }
   ],
   "source": [
    "get_support(0)"
   ]
  },
  {
   "cell_type": "code",
   "execution_count": 44,
   "metadata": {},
   "outputs": [
    {
     "data": {
      "text/plain": [
       "'Strong'"
      ]
     },
     "execution_count": 44,
     "metadata": {},
     "output_type": "execute_result"
    }
   ],
   "source": [
    "get_support(22)"
   ]
  },
  {
   "cell_type": "code",
   "execution_count": 45,
   "metadata": {},
   "outputs": [
    {
     "data": {
      "text/plain": [
       "'Decisive'"
      ]
     },
     "execution_count": 45,
     "metadata": {},
     "output_type": "execute_result"
    }
   ],
   "source": [
    "get_support(200)"
   ]
  },
  {
   "cell_type": "code",
   "execution_count": 46,
   "metadata": {},
   "outputs": [
    {
     "data": {
      "text/html": [
       "<div>\n",
       "<style scoped>\n",
       "    .dataframe tbody tr th:only-of-type {\n",
       "        vertical-align: middle;\n",
       "    }\n",
       "\n",
       "    .dataframe tbody tr th {\n",
       "        vertical-align: top;\n",
       "    }\n",
       "\n",
       "    .dataframe thead th {\n",
       "        text-align: right;\n",
       "    }\n",
       "</style>\n",
       "<table border=\"1\" class=\"dataframe\">\n",
       "  <thead>\n",
       "    <tr style=\"text-align: right;\">\n",
       "      <th></th>\n",
       "      <th>Locus</th>\n",
       "      <th>EnvVar</th>\n",
       "      <th>BayesFactor</th>\n",
       "      <th>SupporLevel</th>\n",
       "    </tr>\n",
       "  </thead>\n",
       "  <tbody>\n",
       "    <tr>\n",
       "      <th>0</th>\n",
       "      <td>JXUT01148300_7234</td>\n",
       "      <td>BO2_salinitymean_ss</td>\n",
       "      <td>254.2400</td>\n",
       "      <td>Decisive</td>\n",
       "    </tr>\n",
       "    <tr>\n",
       "      <th>1</th>\n",
       "      <td>JXUT01149588_72</td>\n",
       "      <td>BO2_salinitymean_ss</td>\n",
       "      <td>5.2797</td>\n",
       "      <td>Substantial</td>\n",
       "    </tr>\n",
       "    <tr>\n",
       "      <th>2</th>\n",
       "      <td>KN882279_143097</td>\n",
       "      <td>BO2_salinitymean_ss</td>\n",
       "      <td>4.2679</td>\n",
       "      <td>Substantial</td>\n",
       "    </tr>\n",
       "    <tr>\n",
       "      <th>3</th>\n",
       "      <td>KN882296_275843</td>\n",
       "      <td>BO2_salinitymean_ss</td>\n",
       "      <td>75.8340</td>\n",
       "      <td>Strong</td>\n",
       "    </tr>\n",
       "    <tr>\n",
       "      <th>4</th>\n",
       "      <td>KN882304_105905</td>\n",
       "      <td>BO2_salinitymean_ss</td>\n",
       "      <td>46.2500</td>\n",
       "      <td>Strong</td>\n",
       "    </tr>\n",
       "    <tr>\n",
       "      <th>...</th>\n",
       "      <td>...</td>\n",
       "      <td>...</td>\n",
       "      <td>...</td>\n",
       "      <td>...</td>\n",
       "    </tr>\n",
       "    <tr>\n",
       "      <th>1126</th>\n",
       "      <td>KN887443_42417</td>\n",
       "      <td>BO2_temprange_bdmean</td>\n",
       "      <td>9.1023</td>\n",
       "      <td>Substantial</td>\n",
       "    </tr>\n",
       "    <tr>\n",
       "      <th>1127</th>\n",
       "      <td>KN888316_12766</td>\n",
       "      <td>BO2_temprange_bdmean</td>\n",
       "      <td>7.8041</td>\n",
       "      <td>Substantial</td>\n",
       "    </tr>\n",
       "    <tr>\n",
       "      <th>1128</th>\n",
       "      <td>KN888353_7556</td>\n",
       "      <td>BO2_temprange_bdmean</td>\n",
       "      <td>4.3606</td>\n",
       "      <td>Substantial</td>\n",
       "    </tr>\n",
       "    <tr>\n",
       "      <th>1129</th>\n",
       "      <td>KN893605_21066</td>\n",
       "      <td>BO2_temprange_bdmean</td>\n",
       "      <td>6.1739</td>\n",
       "      <td>Substantial</td>\n",
       "    </tr>\n",
       "    <tr>\n",
       "      <th>1130</th>\n",
       "      <td>KN896299_340</td>\n",
       "      <td>BO2_temprange_bdmean</td>\n",
       "      <td>7.9544</td>\n",
       "      <td>Substantial</td>\n",
       "    </tr>\n",
       "  </tbody>\n",
       "</table>\n",
       "<p>1131 rows × 4 columns</p>\n",
       "</div>"
      ],
      "text/plain": [
       "                  Locus                EnvVar  BayesFactor  SupporLevel\n",
       "0     JXUT01148300_7234   BO2_salinitymean_ss     254.2400     Decisive\n",
       "1       JXUT01149588_72   BO2_salinitymean_ss       5.2797  Substantial\n",
       "2       KN882279_143097   BO2_salinitymean_ss       4.2679  Substantial\n",
       "3       KN882296_275843   BO2_salinitymean_ss      75.8340       Strong\n",
       "4       KN882304_105905   BO2_salinitymean_ss      46.2500       Strong\n",
       "...                 ...                   ...          ...          ...\n",
       "1126     KN887443_42417  BO2_temprange_bdmean       9.1023  Substantial\n",
       "1127     KN888316_12766  BO2_temprange_bdmean       7.8041  Substantial\n",
       "1128      KN888353_7556  BO2_temprange_bdmean       4.3606  Substantial\n",
       "1129     KN893605_21066  BO2_temprange_bdmean       6.1739  Substantial\n",
       "1130       KN896299_340  BO2_temprange_bdmean       7.9544  Substantial\n",
       "\n",
       "[1131 rows x 4 columns]"
      ]
     },
     "execution_count": 46,
     "metadata": {},
     "output_type": "execute_result"
    }
   ],
   "source": [
    "results_for_df = []\n",
    "for col_name in col_names[1:]:\n",
    "    for locus_index, locus_name in enumerate(be_loci):\n",
    "        bf = bayenv_df[col_name][locus_index]\n",
    "        if bf > 3.2: # worth recording\n",
    "            row_to_add = [locus_name, col_name, bf,get_support(bf)]\n",
    "            results_for_df.append(row_to_add)\n",
    "\n",
    "adaploci_df = pd.DataFrame(results_for_df, columns=[\"Locus\",\"EnvVar\",\"BayesFactor\",\"SupporLevel\"])\n",
    "adaploci_df                    "
   ]
  },
  {
   "cell_type": "code",
   "execution_count": 47,
   "metadata": {},
   "outputs": [],
   "source": [
    "pd.DataFrame.to_csv(adaploci_df, \n",
    "                     path_or_buf=\"PC_BE2_noEI_likeX_putadap_results.txt\", \n",
    "                     sep='\\t')"
   ]
  },
  {
   "cell_type": "code",
   "execution_count": 48,
   "metadata": {},
   "outputs": [
    {
     "data": {
      "text/plain": [
       "422"
      ]
     },
     "execution_count": 48,
     "metadata": {},
     "output_type": "execute_result"
    }
   ],
   "source": [
    "len(set(adaploci_df['Locus']))"
   ]
  },
  {
   "cell_type": "markdown",
   "metadata": {},
   "source": [
    "^ one more than with Eld Inlet"
   ]
  },
  {
   "cell_type": "markdown",
   "metadata": {},
   "source": [
    "## Plotting distribution of bayes factors to look for \"biologically relevant\" cutoff\n",
    "\n",
    "**20200206** NL\n",
    "\n",
    "Some folks in my lab look for natural breaks in the data as a sign of biologial relevance. Sometimes I agree, sometimes I don't, but thought it was worth looking at at least!"
   ]
  },
  {
   "cell_type": "code",
   "execution_count": 49,
   "metadata": {},
   "outputs": [],
   "source": [
    "# add log Bayes Factor column"
   ]
  },
  {
   "cell_type": "code",
   "execution_count": 50,
   "metadata": {},
   "outputs": [],
   "source": [
    "adaploci_df['LogBF'] = np.log10(adaploci_df['BayesFactor'])"
   ]
  },
  {
   "cell_type": "code",
   "execution_count": 51,
   "metadata": {},
   "outputs": [
    {
     "data": {
      "text/html": [
       "<div>\n",
       "<style scoped>\n",
       "    .dataframe tbody tr th:only-of-type {\n",
       "        vertical-align: middle;\n",
       "    }\n",
       "\n",
       "    .dataframe tbody tr th {\n",
       "        vertical-align: top;\n",
       "    }\n",
       "\n",
       "    .dataframe thead th {\n",
       "        text-align: right;\n",
       "    }\n",
       "</style>\n",
       "<table border=\"1\" class=\"dataframe\">\n",
       "  <thead>\n",
       "    <tr style=\"text-align: right;\">\n",
       "      <th></th>\n",
       "      <th>Locus</th>\n",
       "      <th>EnvVar</th>\n",
       "      <th>BayesFactor</th>\n",
       "      <th>SupporLevel</th>\n",
       "      <th>LogBF</th>\n",
       "    </tr>\n",
       "  </thead>\n",
       "  <tbody>\n",
       "    <tr>\n",
       "      <th>0</th>\n",
       "      <td>JXUT01148300_7234</td>\n",
       "      <td>BO2_salinitymean_ss</td>\n",
       "      <td>254.2400</td>\n",
       "      <td>Decisive</td>\n",
       "      <td>2.405244</td>\n",
       "    </tr>\n",
       "    <tr>\n",
       "      <th>1</th>\n",
       "      <td>JXUT01149588_72</td>\n",
       "      <td>BO2_salinitymean_ss</td>\n",
       "      <td>5.2797</td>\n",
       "      <td>Substantial</td>\n",
       "      <td>0.722609</td>\n",
       "    </tr>\n",
       "    <tr>\n",
       "      <th>2</th>\n",
       "      <td>KN882279_143097</td>\n",
       "      <td>BO2_salinitymean_ss</td>\n",
       "      <td>4.2679</td>\n",
       "      <td>Substantial</td>\n",
       "      <td>0.630214</td>\n",
       "    </tr>\n",
       "    <tr>\n",
       "      <th>3</th>\n",
       "      <td>KN882296_275843</td>\n",
       "      <td>BO2_salinitymean_ss</td>\n",
       "      <td>75.8340</td>\n",
       "      <td>Strong</td>\n",
       "      <td>1.879864</td>\n",
       "    </tr>\n",
       "    <tr>\n",
       "      <th>4</th>\n",
       "      <td>KN882304_105905</td>\n",
       "      <td>BO2_salinitymean_ss</td>\n",
       "      <td>46.2500</td>\n",
       "      <td>Strong</td>\n",
       "      <td>1.665112</td>\n",
       "    </tr>\n",
       "  </tbody>\n",
       "</table>\n",
       "</div>"
      ],
      "text/plain": [
       "               Locus               EnvVar  BayesFactor  SupporLevel     LogBF\n",
       "0  JXUT01148300_7234  BO2_salinitymean_ss     254.2400     Decisive  2.405244\n",
       "1    JXUT01149588_72  BO2_salinitymean_ss       5.2797  Substantial  0.722609\n",
       "2    KN882279_143097  BO2_salinitymean_ss       4.2679  Substantial  0.630214\n",
       "3    KN882296_275843  BO2_salinitymean_ss      75.8340       Strong  1.879864\n",
       "4    KN882304_105905  BO2_salinitymean_ss      46.2500       Strong  1.665112"
      ]
     },
     "execution_count": 51,
     "metadata": {},
     "output_type": "execute_result"
    }
   ],
   "source": [
    "adaploci_df.iloc[0:5,]"
   ]
  },
  {
   "cell_type": "code",
   "execution_count": 52,
   "metadata": {},
   "outputs": [],
   "source": [
    "import matplotlib.pyplot as plt"
   ]
  },
  {
   "cell_type": "code",
   "execution_count": 53,
   "metadata": {},
   "outputs": [],
   "source": [
    "minbf = min(adaploci_df['LogBF'])\n",
    "maxbf = max(adaploci_df['LogBF'])"
   ]
  },
  {
   "cell_type": "code",
   "execution_count": 54,
   "metadata": {},
   "outputs": [
    {
     "data": {
      "text/plain": [
       "8.326499714725037"
      ]
     },
     "execution_count": 54,
     "metadata": {},
     "output_type": "execute_result"
    }
   ],
   "source": [
    "maxbf"
   ]
  },
  {
   "cell_type": "code",
   "execution_count": 55,
   "metadata": {},
   "outputs": [
    {
     "data": {
      "image/png": "[encoded data removed]",
      "text/plain": [
       "<Figure size 432x288 with 1 Axes>"
      ]
     },
     "metadata": {
      "needs_background": "light"
     },
     "output_type": "display_data"
    }
   ],
   "source": [
    "plt.hist(adaploci_df['LogBF'], bins=np.arange(minbf, maxbf+2, 0.2))\n",
    "plt.xlabel('Log Bayes Factor')\n",
    "plt.ylabel('Count')\n",
    "plt.show()"
   ]
  },
  {
   "cell_type": "code",
   "execution_count": 56,
   "metadata": {},
   "outputs": [
    {
     "name": "stdout",
     "output_type": "stream",
     "text": [
      "Num SNPs above visible threshold: 10\n"
     ]
    }
   ],
   "source": [
    "thresh = list(adaploci_df['LogBF'] > 5)\n",
    "count = 0\n",
    "for i in thresh:\n",
    "    if i == True:\n",
    "        count += 1\n",
    "        \n",
    "print(\"Num SNPs above visible threshold:\", count)"
   ]
  },
  {
   "cell_type": "code",
   "execution_count": 57,
   "metadata": {},
   "outputs": [
    {
     "name": "stdout",
     "output_type": "stream",
     "text": [
      "[False, False, False, False, False]\n",
      "Number SNPs decisive support: 104\n"
     ]
    }
   ],
   "source": [
    "\n",
    "decisive = list(adaploci_df['SupporLevel'] == 'Decisive')\n",
    "print(thresh[0:5])\n",
    "count = 0\n",
    "for i in decisive:\n",
    "    if i == True:\n",
    "        count += 1\n",
    "        \n",
    "print(\"Number SNPs decisive support:\", count)"
   ]
  },
  {
   "cell_type": "code",
   "execution_count": 58,
   "metadata": {},
   "outputs": [],
   "source": [
    "decisive_df = adaploci_df[adaploci_df['SupporLevel']=='Decisive']"
   ]
  },
  {
   "cell_type": "code",
   "execution_count": 59,
   "metadata": {},
   "outputs": [
    {
     "data": {
      "text/html": [
       "<div>\n",
       "<style scoped>\n",
       "    .dataframe tbody tr th:only-of-type {\n",
       "        vertical-align: middle;\n",
       "    }\n",
       "\n",
       "    .dataframe tbody tr th {\n",
       "        vertical-align: top;\n",
       "    }\n",
       "\n",
       "    .dataframe thead th {\n",
       "        text-align: right;\n",
       "    }\n",
       "</style>\n",
       "<table border=\"1\" class=\"dataframe\">\n",
       "  <thead>\n",
       "    <tr style=\"text-align: right;\">\n",
       "      <th></th>\n",
       "      <th>Locus</th>\n",
       "      <th>EnvVar</th>\n",
       "      <th>BayesFactor</th>\n",
       "      <th>SupporLevel</th>\n",
       "      <th>LogBF</th>\n",
       "    </tr>\n",
       "  </thead>\n",
       "  <tbody>\n",
       "    <tr>\n",
       "      <th>0</th>\n",
       "      <td>JXUT01148300_7234</td>\n",
       "      <td>BO2_salinitymean_ss</td>\n",
       "      <td>254.24</td>\n",
       "      <td>Decisive</td>\n",
       "      <td>2.405244</td>\n",
       "    </tr>\n",
       "    <tr>\n",
       "      <th>24</th>\n",
       "      <td>KN883642_77523</td>\n",
       "      <td>BO2_salinitymean_ss</td>\n",
       "      <td>268.51</td>\n",
       "      <td>Decisive</td>\n",
       "      <td>2.428960</td>\n",
       "    </tr>\n",
       "    <tr>\n",
       "      <th>27</th>\n",
       "      <td>KN883983_65078</td>\n",
       "      <td>BO2_salinitymean_ss</td>\n",
       "      <td>173.50</td>\n",
       "      <td>Decisive</td>\n",
       "      <td>2.239299</td>\n",
       "    </tr>\n",
       "    <tr>\n",
       "      <th>32</th>\n",
       "      <td>KN884325_2292</td>\n",
       "      <td>BO2_salinitymean_ss</td>\n",
       "      <td>142.30</td>\n",
       "      <td>Decisive</td>\n",
       "      <td>2.153205</td>\n",
       "    </tr>\n",
       "    <tr>\n",
       "      <th>41</th>\n",
       "      <td>KN885261_62073</td>\n",
       "      <td>BO2_salinitymean_ss</td>\n",
       "      <td>2319.80</td>\n",
       "      <td>Decisive</td>\n",
       "      <td>3.365451</td>\n",
       "    </tr>\n",
       "    <tr>\n",
       "      <th>...</th>\n",
       "      <td>...</td>\n",
       "      <td>...</td>\n",
       "      <td>...</td>\n",
       "      <td>...</td>\n",
       "      <td>...</td>\n",
       "    </tr>\n",
       "    <tr>\n",
       "      <th>1095</th>\n",
       "      <td>KN886666_21675</td>\n",
       "      <td>BO2_tempmin_bdmean</td>\n",
       "      <td>180.09</td>\n",
       "      <td>Decisive</td>\n",
       "      <td>2.255490</td>\n",
       "    </tr>\n",
       "    <tr>\n",
       "      <th>1104</th>\n",
       "      <td>KN889769_63777</td>\n",
       "      <td>BO2_tempmin_bdmean</td>\n",
       "      <td>318.51</td>\n",
       "      <td>Decisive</td>\n",
       "      <td>2.503123</td>\n",
       "    </tr>\n",
       "    <tr>\n",
       "      <th>1105</th>\n",
       "      <td>KN890051_22452</td>\n",
       "      <td>BO2_tempmin_bdmean</td>\n",
       "      <td>142.62</td>\n",
       "      <td>Decisive</td>\n",
       "      <td>2.154180</td>\n",
       "    </tr>\n",
       "    <tr>\n",
       "      <th>1107</th>\n",
       "      <td>KN890086_21615</td>\n",
       "      <td>BO2_tempmin_bdmean</td>\n",
       "      <td>359590.00</td>\n",
       "      <td>Decisive</td>\n",
       "      <td>5.555808</td>\n",
       "    </tr>\n",
       "    <tr>\n",
       "      <th>1125</th>\n",
       "      <td>KN886876_27157</td>\n",
       "      <td>BO2_temprange_bdmean</td>\n",
       "      <td>157.49</td>\n",
       "      <td>Decisive</td>\n",
       "      <td>2.197253</td>\n",
       "    </tr>\n",
       "  </tbody>\n",
       "</table>\n",
       "<p>104 rows × 5 columns</p>\n",
       "</div>"
      ],
      "text/plain": [
       "                  Locus                EnvVar  BayesFactor SupporLevel  \\\n",
       "0     JXUT01148300_7234   BO2_salinitymean_ss       254.24    Decisive   \n",
       "24       KN883642_77523   BO2_salinitymean_ss       268.51    Decisive   \n",
       "27       KN883983_65078   BO2_salinitymean_ss       173.50    Decisive   \n",
       "32        KN884325_2292   BO2_salinitymean_ss       142.30    Decisive   \n",
       "41       KN885261_62073   BO2_salinitymean_ss      2319.80    Decisive   \n",
       "...                 ...                   ...          ...         ...   \n",
       "1095     KN886666_21675    BO2_tempmin_bdmean       180.09    Decisive   \n",
       "1104     KN889769_63777    BO2_tempmin_bdmean       318.51    Decisive   \n",
       "1105     KN890051_22452    BO2_tempmin_bdmean       142.62    Decisive   \n",
       "1107     KN890086_21615    BO2_tempmin_bdmean    359590.00    Decisive   \n",
       "1125     KN886876_27157  BO2_temprange_bdmean       157.49    Decisive   \n",
       "\n",
       "         LogBF  \n",
       "0     2.405244  \n",
       "24    2.428960  \n",
       "27    2.239299  \n",
       "32    2.153205  \n",
       "41    3.365451  \n",
       "...        ...  \n",
       "1095  2.255490  \n",
       "1104  2.503123  \n",
       "1105  2.154180  \n",
       "1107  5.555808  \n",
       "1125  2.197253  \n",
       "\n",
       "[104 rows x 5 columns]"
      ]
     },
     "execution_count": 59,
     "metadata": {},
     "output_type": "execute_result"
    }
   ],
   "source": [
    "decisive_df"
   ]
  },
  {
   "cell_type": "code",
   "execution_count": 47,
   "metadata": {},
   "outputs": [
    {
     "data": {
      "text/plain": [
       "'/mnt/hgfs/E/dDocent_for_mox/parcal_wd/parcal_mox001/analyses_CG_PC/bayenv2'"
      ]
     },
     "execution_count": 47,
     "metadata": {},
     "output_type": "execute_result"
    }
   ],
   "source": [
    "pwd"
   ]
  },
  {
   "cell_type": "code",
   "execution_count": 60,
   "metadata": {},
   "outputs": [],
   "source": [
    "pd.DataFrame.to_csv(adaploci_df, \n",
    "                     path_or_buf=\"PC_BE2_noEI_likeX_decisiveSNPs.txt\", \n",
    "                     sep='\\t')"
   ]
  }
 ],
 "metadata": {
  "kernelspec": {
   "display_name": "Python 3",
   "language": "python",
   "name": "python3"
  },
  "language_info": {
   "codemirror_mode": {
    "name": "ipython",
    "version": 3
   },
   "file_extension": ".py",
   "mimetype": "text/x-python",
   "name": "python",
   "nbconvert_exporter": "python",
   "pygments_lexer": "ipython3",
   "version": "3.7.3"
  }
 },
 "nbformat": 4,
 "nbformat_minor": 4
}
