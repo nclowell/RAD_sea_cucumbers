{
 "cells": [
  {
   "cell_type": "markdown",
   "metadata": {},
   "source": [
    "## Get one SNP with highest MAF\n",
    "\n",
    "**20191022** NL\n",
    "\n",
    "Using a single SNP per RADtag, picking the SNP with the highest MAF.\n",
    "\n",
    "The output of dDocent did not define the RADtags because we used a reference genome, so I used some code to estimate the RADtags based on sequencing length (150bp)."
   ]
  },
  {
   "cell_type": "code",
   "execution_count": 1,
   "metadata": {},
   "outputs": [],
   "source": [
    "import numpy as np\n",
    "import matplotlib.pyplot as plt"
   ]
  },
  {
   "cell_type": "code",
   "execution_count": 9,
   "metadata": {},
   "outputs": [],
   "source": [
    "gp_filepath = \"primSNPs_noINDL_parcal_mox001_md70_maf05_minQ20_mDP10_inames_noreps_HWE.gen\""
   ]
  },
  {
   "cell_type": "code",
   "execution_count": 10,
   "metadata": {},
   "outputs": [],
   "source": [
    "# make dictionary with key = index of locus, value = name of locus\n",
    "index_chromposname = {}\n",
    "gp_file = open(gp_filepath, \"r\")\n",
    "foundpop = False\n",
    "index = 0\n",
    "for line in gp_file:\n",
    "    if line.strip() != \"\" and line.startswith(\"#\") == False: # if not header or blank line\n",
    "        if line.strip() not in [\"Pop\",\"pop\"]:\n",
    "            index_chromposname[index] = line.strip() # store in dict with index\n",
    "            index += 1\n",
    "        else:\n",
    "            break\n",
    "gp_file.close()"
   ]
  },
  {
   "cell_type": "code",
   "execution_count": 11,
   "metadata": {},
   "outputs": [],
   "source": [
    "# dictionary to store global MAF data\n",
    "maf_global = {}\n",
    "for key in index_chromposname:\n",
    "    maf_global[index_chromposname[key]] = {} # each locus gets a nested dict, with keys = alleles and values = counts observed\n",
    "\n",
    "# store global md and maf\n",
    "gp_file = open(gp_filepath, \"r\")\n",
    "\n",
    "foundpop = False\n",
    "check = 0\n",
    "\n",
    "for line in gp_file:\n",
    "    if line.strip() != \"\" and line.startswith(\"#\") == False: # if not header and not empty line\n",
    "        if foundpop == True: # if we've already found a \"Pop\" line (aka no SNP name line)\n",
    "            if line.strip() not in [\"Pop\",\"pop\"]: # if ths line isn't \"Pop\" it's a genotype line\n",
    "                genos = line.strip().split()[2:] # get genotypes into list\n",
    "                geno_index = 0 # start a counting index\n",
    "                \n",
    "                # MD and MAF\n",
    "                for geno in genos:\n",
    "                    if geno != \"000000\": # count missing data   \n",
    "                        # store allele counts\n",
    "                        allele1 = geno[0:3]\n",
    "                        allele2 = geno[3:6]\n",
    "                        if allele1 not in maf_global[index_chromposname[geno_index]]:\n",
    "                            maf_global[index_chromposname[geno_index]][allele1] = 1\n",
    "                        else:\n",
    "                            maf_global[index_chromposname[geno_index]][allele1] += 1\n",
    "                        if allele2 not in maf_global[index_chromposname[geno_index]]: # never making it here!\n",
    "                            maf_global[index_chromposname[geno_index]][allele2] = 1\n",
    "\n",
    "                        else:\n",
    "                            maf_global[index_chromposname[geno_index]][allele2] += 1\n",
    "                    geno_index += 1\n",
    "        if line.strip() in [\"Pop\",\"pop\"]:\n",
    "            foundpop = True\n",
    "gp_file.close()\n",
    "\n",
    "# calculate and store MAF in same dict, with key 'MAF' per locus\n",
    "global_mafs = []\n",
    "for locus in maf_global:\n",
    "    counts = list(maf_global[locus].values())\n",
    "    if len(counts) == 0:\n",
    "        print(\"Ruh roh!\", locus)\n",
    "    total_count = sum(list(maf_global[locus].values()))\n",
    "    maf = min(list(maf_global[locus].values())) / total_count \n",
    "    global_mafs.append(maf)\n",
    "    maf_global[locus]['MAF'] = maf"
   ]
  },
  {
   "cell_type": "code",
   "execution_count": 12,
   "metadata": {},
   "outputs": [],
   "source": [
    "def make_chromposdict_fromGP(gp_filepath):\n",
    "    '''Make a dictionary with key = chromosome / scaffold, and \n",
    "    value = list of SNP positions, from a genepop file.'''\n",
    "    gpfile = open(gp_filepath,\"r\")\n",
    "    chrompos_dict = {}\n",
    "    foundpop = False\n",
    "    for line in gpfile:\n",
    "        if foundpop != True:\n",
    "            if line.startswith(\"#\") == False:\n",
    "                if line.strip() != \"\":\n",
    "                    if line.strip() not in [\"Pop\", \"pop\"]:\n",
    "                        chrom = line.strip().split(\"_\")[0]\n",
    "                        pos = int(line.strip().split(\"_\")[1])\n",
    "                        if chrom not in chrompos_dict:\n",
    "                            chrompos_dict[chrom] = [pos]\n",
    "                        else:\n",
    "                            chrompos_dict[chrom].append(pos)\n",
    "        if line.strip() in [\"Pop\", \"pop\"]:\n",
    "            foundpop = True    \n",
    "    gpfile.close()\n",
    "    return(chrompos_dict) "
   ]
  },
  {
   "cell_type": "code",
   "execution_count": 13,
   "metadata": {},
   "outputs": [],
   "source": [
    "chrompos_dict = make_chromposdict_fromGP(gp_filepath)"
   ]
  },
  {
   "cell_type": "code",
   "execution_count": 14,
   "metadata": {},
   "outputs": [
    {
     "name": "stdout",
     "output_type": "stream",
     "text": [
      "5043\n"
     ]
    }
   ],
   "source": [
    "count = 0\n",
    "for chrom in chrompos_dict:\n",
    "    for snp in chrompos_dict[chrom]:\n",
    "        count += 1\n",
    "        \n",
    "print(count)"
   ]
  },
  {
   "cell_type": "markdown",
   "metadata": {},
   "source": [
    "## Get list of SNPs, one per RAD tag with highest MAF"
   ]
  },
  {
   "cell_type": "code",
   "execution_count": 22,
   "metadata": {},
   "outputs": [
    {
     "name": "stdout",
     "output_type": "stream",
     "text": [
      "Num chroms in kept dict 1813\n",
      "Num snp positions in kept dict 2075\n"
     ]
    }
   ],
   "source": [
    "# keep one SNP (with highest MAF) per RAD locus, allowing xbases between estimated RAD loci\n",
    "xbases = 500\n",
    "kept_chrom_pos_dict = {} # initiate dictionary to store positions of each chrom / scaffold to keep for final filtering\n",
    "for chrom in chrompos_dict:\n",
    "    this_chrom_snp_positions = list(chrompos_dict[chrom]) # get list of SNP positions\n",
    "    \n",
    "    if len(this_chrom_snp_positions) == 1: # if only one, keep it\n",
    "        kept_chrom_pos_dict[chrom] = this_chrom_snp_positions\n",
    "        #print(\"just one and kept\", this_chrom_snp_positions\n",
    "    \n",
    "    elif len(this_chrom_snp_positions) == 2: # if only 2,\n",
    "        if this_chrom_snp_positions[1]-this_chrom_snp_positions[0] > xbases: # and if at least x bases apart, keep both\n",
    "            kept_chrom_pos_dict[chrom] = [this_chrom_snp_positions[0], this_chrom_snp_positions[1]]\n",
    "            #print(\"just two and kept both,\", [this_chrom_snp_positions[0], this_chrom_snp_positions[1]])\n",
    "       \n",
    "        else: # keep first one (totally arbitrary just for this NB)\n",
    "            # find one with higher MAF\n",
    "            MAF_first = maf_global[chrom+\"_\"+str(this_chrom_snp_positions[0])]['MAF']\n",
    "            MAF_second = maf_global[chrom+\"_\"+str(this_chrom_snp_positions[1])]['MAF']\n",
    "            if MAF_first > MAF_second:\n",
    "                kept_chrom_pos_dict[chrom] = [this_chrom_snp_positions[0]]\n",
    "            else:\n",
    "                kept_chrom_pos_dict[chrom] = [this_chrom_snp_positions[1]]             \n",
    "            #print(\"Kept one of two, with higher MAF\")\n",
    "\n",
    "    elif len(this_chrom_snp_positions) > 2: # if more than 2, keep one per every estimated RAD locus, with highest coverage\n",
    "        kept_chrom_pos_dict[chrom] = [] # iniate list to store potentially multiple SNPs\n",
    "        pos_estRADlocus = [] # SNPs grouped in what is an estimated single RAD locus defined by xbases\n",
    "        prev_pos = this_chrom_snp_positions[0] # store first position as reference\n",
    "        pos_estRADlocus.append(prev_pos) # store first position snp and coverage\n",
    "        \n",
    "        for pos in this_chrom_snp_positions[1:]:\n",
    "            xdist = pos - prev_pos # get distance between this SNP and previous one\n",
    "            \n",
    "            if xdist < xbases and pos == this_chrom_snp_positions[-1]: # if last SNP on chrom\n",
    "                pos_estRADlocus.append(pos)\n",
    "                # pick pos with highest MAF\n",
    "                pos_highest_MAF = 0\n",
    "                highest_MAF = 0\n",
    "                for this_pos in pos_estRADlocus:\n",
    "                    if maf_global[chrom+\"_\"+str(this_pos)]['MAF'] > highest_MAF:\n",
    "                        highest_MAF = maf_global[chrom+\"_\"+str(this_pos)]['MAF']\n",
    "                        pos_highest_MAF = this_pos\n",
    "                #print(\"Pos highest MAF\", pos_highest_MAF, \"highest MAF\", highest_MAF)\n",
    "                kept_chrom_pos_dict[chrom].append(pos_highest_MAF) # store pos with highest MAF\n",
    "                pos_estRADlocus = [] # restart list\n",
    "\n",
    "            elif xdist < xbases: # if nearby / probably on same RAD locus\n",
    "                pos_estRADlocus.append(pos) # add to running list of pos on same RAD locus\n",
    "                prev_pos = prev_pos + xdist # reset starting position\n",
    "\n",
    "            elif xdist > xbases: # if far away / probably not on same RAD locus\n",
    "                # pick pos with highest MAF\n",
    "                pos_highest_MAF = 0\n",
    "                highest_MAF = 0\n",
    "                for this_pos in pos_estRADlocus:\n",
    "                    if maf_global[chrom+\"_\"+str(this_pos)]['MAF'] > highest_MAF:\n",
    "                        highest_MAF = maf_global[chrom+\"_\"+str(this_pos)]['MAF']\n",
    "                        pos_highest_MAF = this_pos\n",
    "                #print(\"Pos highest MAF\", pos_highest_MAF, \"highest MAF\", highest_MAF)\n",
    "                kept_chrom_pos_dict[chrom].append(pos_highest_MAF) # store pos with highest MAF\n",
    "                pos_estRADlocus = [pos] # write over dict with new empty one, for next round\n",
    "                prev_pos = pos # reset starting position\n",
    "\n",
    "                \n",
    "print(\"Num chroms in kept dict\", len(kept_chrom_pos_dict.keys()))\n",
    "count = 0\n",
    "for chrom in kept_chrom_pos_dict:\n",
    "    for pos in kept_chrom_pos_dict[chrom]:\n",
    "        count += 1\n",
    "print(\"Num snp positions in kept dict\", count)                            \n"
   ]
  },
  {
   "cell_type": "code",
   "execution_count": 23,
   "metadata": {},
   "outputs": [],
   "source": [
    "# get list of snps to keep if filtering for oneSNPhiMAF\n",
    "oneSNPhiMAF_file = open(\"oneSNPhiMAF_2075L_names.txt\", \"w\")\n",
    "for chrom in kept_chrom_pos_dict:\n",
    "    for pos in kept_chrom_pos_dict[chrom]:\n",
    "        oneSNPhiMAF_file.write(chrom + \"_\" + str(pos) + \"\\n\")\n",
    "oneSNPhiMAF_file.close()"
   ]
  },
  {
   "cell_type": "code",
   "execution_count": 24,
   "metadata": {},
   "outputs": [
    {
     "name": "stdout",
     "output_type": "stream",
     "text": [
      "JXUT01106070.1_4760\n",
      "JXUT01121266.1_26861\n",
      "JXUT01124726.1_31595\n",
      "JXUT01126181.1_4136\n",
      "JXUT01134574.1_5560\n",
      "JXUT01134978.1_18882\n",
      "JXUT01140060.1_11904\n",
      "JXUT01140497.1_1443\n",
      "JXUT01142175.1_18326\n",
      "JXUT01142362.1_5750\n"
     ]
    }
   ],
   "source": [
    "!head oneSNPhiMAF_2075L_names.txt"
   ]
  }
 ],
 "metadata": {
  "kernelspec": {
   "display_name": "Python 3",
   "language": "python",
   "name": "python3"
  },
  "language_info": {
   "codemirror_mode": {
    "name": "ipython",
    "version": 3
   },
   "file_extension": ".py",
   "mimetype": "text/x-python",
   "name": "python",
   "nbconvert_exporter": "python",
   "pygments_lexer": "ipython3",
   "version": "3.7.3"
  }
 },
 "nbformat": 4,
 "nbformat_minor": 4
}
