{
 "cells": [
  {
   "cell_type": "markdown",
   "metadata": {},
   "source": [
    "## Add informative locus names (\"inames\")\n",
    "\n",
    "**20191022** NL\n",
    "\n",
    "Because they were replaced with index names in PGD Spider.\n",
    "\n",
    "This notebook gets the locus names from the VCF file that was used to make the genepop file in PGD Spider.\n",
    "\n"
   ]
  },
  {
   "cell_type": "code",
   "execution_count": 20,
   "metadata": {},
   "outputs": [],
   "source": [
    "import subprocess as sp"
   ]
  },
  {
   "cell_type": "code",
   "execution_count": 1,
   "metadata": {},
   "outputs": [
    {
     "name": "stdout",
     "output_type": "stream",
     "text": [
      "\u001b[0m\u001b[01;32mprimSNPs_noINDL_parcal_mox001_md70_maf05_minQ20_mDP10.recode.vcf\u001b[0m*\n",
      "\u001b[01;32mprimSNPs_noINDL_parcal_mox001_md70_maf05_minQ20.recode.vcf\u001b[0m*\n",
      "\u001b[01;32mprimSNPs_noINDL_parcal_mox001.vcf\u001b[0m*\n",
      "\u001b[01;32mSNPs_noINDL_parcal_mox001.vcf.recode.vcf\u001b[0m*\n",
      "\u001b[01;32mTotalRawSNPs_parcal_mox001.vcf\u001b[0m*\n"
     ]
    }
   ],
   "source": [
    "ls *vcf"
   ]
  },
  {
   "cell_type": "code",
   "execution_count": 10,
   "metadata": {},
   "outputs": [
    {
     "name": "stdout",
     "output_type": "stream",
     "text": [
      "\u001b[0m\u001b[01;32mprimSNPs_noINDL_parcal_mox001_md70_maf05_minQ20_mDP10.txt\u001b[0m*\n"
     ]
    }
   ],
   "source": [
    "ls *txt"
   ]
  },
  {
   "cell_type": "code",
   "execution_count": 23,
   "metadata": {},
   "outputs": [],
   "source": [
    "# change this cell\n",
    "vcf_filename = \"primSNPs_noINDL_parcal_mox001_md70_maf05_minQ20_mDP10.recode.vcf\"\n",
    "old_gp_filename = \"primSNPs_noINDL_parcal_mox001_md70_maf05_minQ20_mDP10.txt\" # doesn't yet have inames\n",
    "new_gp_filename = \"primSNPs_noINDL_parcal_mox001_md70_maf05_minQ20_mDP10_inames.txt\" # will have inames"
   ]
  },
  {
   "cell_type": "code",
   "execution_count": 24,
   "metadata": {},
   "outputs": [],
   "source": [
    "vcf_file = open(vcf_filename, \"r\")\n",
    "inames = []\n",
    "for line in vcf_file:\n",
    "    if line.startswith(\"#\") == False:\n",
    "        linelist = line.strip().split()\n",
    "        iname = linelist[0] +\"_\"+ linelist[1]\n",
    "        inames.append(iname)\n",
    "vcf_file.close()"
   ]
  },
  {
   "cell_type": "code",
   "execution_count": 25,
   "metadata": {},
   "outputs": [
    {
     "data": {
      "text/plain": [
       "['JXUT01106070.1_4760',\n",
       " 'JXUT01106070.1_4890',\n",
       " 'JXUT01121266.1_26809',\n",
       " 'JXUT01121266.1_26861',\n",
       " 'JXUT01124726.1_31535']"
      ]
     },
     "execution_count": 25,
     "metadata": {},
     "output_type": "execute_result"
    }
   ],
   "source": [
    "inames[0:5]"
   ]
  },
  {
   "cell_type": "code",
   "execution_count": 26,
   "metadata": {},
   "outputs": [
    {
     "data": {
      "text/plain": [
       "9133"
      ]
     },
     "execution_count": 26,
     "metadata": {},
     "output_type": "execute_result"
    }
   ],
   "source": [
    "len(inames)"
   ]
  },
  {
   "cell_type": "code",
   "execution_count": 27,
   "metadata": {},
   "outputs": [],
   "source": [
    "old_gp_file = open(old_gp_filename, \"r\")\n",
    "new_gp_file = open(new_gp_filename, \"w\")\n",
    "\n",
    "foundpop = False\n",
    "snp_index = 0\n",
    "\n",
    "firstline = old_gp_file.readline()\n",
    "if firstline.startswith(\"#\"):\n",
    "    new_gp_file.write(firstline.strip() + \"; added inames manually\\n\")\n",
    "for iname in inames:\n",
    "    new_gp_file.write(iname+\"\\n\")\n",
    "for line in old_gp_file:\n",
    "    if foundpop == True or line.strip() in [\"Pop\", \"pop\"]:\n",
    "        foundpop = True\n",
    "        new_gp_file.write(line)\n",
    "old_gp_file.close()\n",
    "new_gp_file.close()"
   ]
  },
  {
   "cell_type": "code",
   "execution_count": 28,
   "metadata": {},
   "outputs": [
    {
     "name": "stdout",
     "output_type": "stream",
     "text": [
      "['# made 20191022 with PGD Spider; added inames manually\\n', 'JXUT01106070.1_4760\\n', 'JXUT01106070.1_4890\\n', 'JXUT01121266.1_26809\\n', 'JXUT01121266.1_26861\\n', 'JXUT01124726.1_31535\\n', 'JXUT01124726.1_31536\\n', 'JXUT01124726.1_31595\\n', 'JXUT01124726.1_31608\\n', 'JXUT01126181.1_4105\\n']\n"
     ]
    }
   ],
   "source": [
    "with open(new_gp_filename) as myfile:\n",
    "    head = [next(myfile) for x in range(10)]\n",
    "print(head)"
   ]
  }
 ],
 "metadata": {
  "kernelspec": {
   "display_name": "Python 3",
   "language": "python",
   "name": "python3"
  },
  "language_info": {
   "codemirror_mode": {
    "name": "ipython",
    "version": 3
   },
   "file_extension": ".py",
   "mimetype": "text/x-python",
   "name": "python",
   "nbconvert_exporter": "python",
   "pygments_lexer": "ipython3",
   "version": "3.7.3"
  }
 },
 "nbformat": 4,
 "nbformat_minor": 4
}
